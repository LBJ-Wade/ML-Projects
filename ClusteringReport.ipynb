{
 "cells": [
  {
   "cell_type": "markdown",
   "metadata": {},
   "source": [
    "# Comparing clustering algorithms with Motion Capture data\n",
    "\n",
    "This is just the temporary version of the report.\n",
    "\n",
    "## 1. Loading the MoCap dataset\n",
    "The dataset can be dowloaded from https://archive.ics.uci.edu/ml/datasets/MoCap+Hand+Postures\n",
    "\n"
   ]
  },
  {
   "cell_type": "code",
   "execution_count": 1,
   "metadata": {
    "collapsed": true
   },
   "outputs": [],
   "source": [
    "# importing the relevant libraries\n",
    "import pandas as pd\n",
    "import numpy as np\n",
    "\n",
    "import matplotlib.pyplot as plt\n",
    "import pylab as pil"
   ]
  },
  {
   "cell_type": "code",
   "execution_count": 2,
   "metadata": {},
   "outputs": [
    {
     "data": {
      "text/html": [
       "<div>\n",
       "<style>\n",
       "    .dataframe thead tr:only-child th {\n",
       "        text-align: right;\n",
       "    }\n",
       "\n",
       "    .dataframe thead th {\n",
       "        text-align: left;\n",
       "    }\n",
       "\n",
       "    .dataframe tbody tr th {\n",
       "        vertical-align: top;\n",
       "    }\n",
       "</style>\n",
       "<table border=\"1\" class=\"dataframe\">\n",
       "  <thead>\n",
       "    <tr style=\"text-align: right;\">\n",
       "      <th></th>\n",
       "      <th>Class</th>\n",
       "      <th>User</th>\n",
       "      <th>X0</th>\n",
       "      <th>Y0</th>\n",
       "      <th>Z0</th>\n",
       "      <th>X1</th>\n",
       "      <th>Y1</th>\n",
       "      <th>Z1</th>\n",
       "      <th>X2</th>\n",
       "      <th>Y2</th>\n",
       "      <th>...</th>\n",
       "      <th>Z8</th>\n",
       "      <th>X9</th>\n",
       "      <th>Y9</th>\n",
       "      <th>Z9</th>\n",
       "      <th>X10</th>\n",
       "      <th>Y10</th>\n",
       "      <th>Z10</th>\n",
       "      <th>X11</th>\n",
       "      <th>Y11</th>\n",
       "      <th>Z11</th>\n",
       "    </tr>\n",
       "  </thead>\n",
       "  <tbody>\n",
       "    <tr>\n",
       "      <th>0</th>\n",
       "      <td>0</td>\n",
       "      <td>0</td>\n",
       "      <td>0.000000</td>\n",
       "      <td>0.000000</td>\n",
       "      <td>0.000000</td>\n",
       "      <td>0.000000</td>\n",
       "      <td>0.000000</td>\n",
       "      <td>0.000000</td>\n",
       "      <td>0.000000</td>\n",
       "      <td>0.000000</td>\n",
       "      <td>...</td>\n",
       "      <td>0</td>\n",
       "      <td>0</td>\n",
       "      <td>0</td>\n",
       "      <td>0</td>\n",
       "      <td>0</td>\n",
       "      <td>0</td>\n",
       "      <td>0</td>\n",
       "      <td>0</td>\n",
       "      <td>0</td>\n",
       "      <td>0</td>\n",
       "    </tr>\n",
       "    <tr>\n",
       "      <th>1</th>\n",
       "      <td>1</td>\n",
       "      <td>0</td>\n",
       "      <td>54.263880</td>\n",
       "      <td>71.466776</td>\n",
       "      <td>-64.807709</td>\n",
       "      <td>76.895635</td>\n",
       "      <td>42.462500</td>\n",
       "      <td>-72.780545</td>\n",
       "      <td>36.621229</td>\n",
       "      <td>81.680557</td>\n",
       "      <td>...</td>\n",
       "      <td>?</td>\n",
       "      <td>?</td>\n",
       "      <td>?</td>\n",
       "      <td>?</td>\n",
       "      <td>?</td>\n",
       "      <td>?</td>\n",
       "      <td>?</td>\n",
       "      <td>?</td>\n",
       "      <td>?</td>\n",
       "      <td>?</td>\n",
       "    </tr>\n",
       "    <tr>\n",
       "      <th>2</th>\n",
       "      <td>1</td>\n",
       "      <td>0</td>\n",
       "      <td>56.527558</td>\n",
       "      <td>72.266609</td>\n",
       "      <td>-61.935252</td>\n",
       "      <td>39.135978</td>\n",
       "      <td>82.538530</td>\n",
       "      <td>-49.596509</td>\n",
       "      <td>79.223743</td>\n",
       "      <td>43.254091</td>\n",
       "      <td>...</td>\n",
       "      <td>?</td>\n",
       "      <td>?</td>\n",
       "      <td>?</td>\n",
       "      <td>?</td>\n",
       "      <td>?</td>\n",
       "      <td>?</td>\n",
       "      <td>?</td>\n",
       "      <td>?</td>\n",
       "      <td>?</td>\n",
       "      <td>?</td>\n",
       "    </tr>\n",
       "    <tr>\n",
       "      <th>3</th>\n",
       "      <td>1</td>\n",
       "      <td>0</td>\n",
       "      <td>55.849928</td>\n",
       "      <td>72.469064</td>\n",
       "      <td>-62.562788</td>\n",
       "      <td>37.988804</td>\n",
       "      <td>82.631347</td>\n",
       "      <td>-50.606259</td>\n",
       "      <td>78.451526</td>\n",
       "      <td>43.567403</td>\n",
       "      <td>...</td>\n",
       "      <td>?</td>\n",
       "      <td>?</td>\n",
       "      <td>?</td>\n",
       "      <td>?</td>\n",
       "      <td>?</td>\n",
       "      <td>?</td>\n",
       "      <td>?</td>\n",
       "      <td>?</td>\n",
       "      <td>?</td>\n",
       "      <td>?</td>\n",
       "    </tr>\n",
       "    <tr>\n",
       "      <th>4</th>\n",
       "      <td>1</td>\n",
       "      <td>0</td>\n",
       "      <td>55.329647</td>\n",
       "      <td>71.707275</td>\n",
       "      <td>-63.688956</td>\n",
       "      <td>36.561863</td>\n",
       "      <td>81.868749</td>\n",
       "      <td>-52.752784</td>\n",
       "      <td>86.320630</td>\n",
       "      <td>68.214645</td>\n",
       "      <td>...</td>\n",
       "      <td>?</td>\n",
       "      <td>?</td>\n",
       "      <td>?</td>\n",
       "      <td>?</td>\n",
       "      <td>?</td>\n",
       "      <td>?</td>\n",
       "      <td>?</td>\n",
       "      <td>?</td>\n",
       "      <td>?</td>\n",
       "      <td>?</td>\n",
       "    </tr>\n",
       "  </tbody>\n",
       "</table>\n",
       "<p>5 rows × 38 columns</p>\n",
       "</div>"
      ],
      "text/plain": [
       "   Class  User         X0         Y0         Z0         X1         Y1  \\\n",
       "0      0     0   0.000000   0.000000   0.000000   0.000000   0.000000   \n",
       "1      1     0  54.263880  71.466776 -64.807709  76.895635  42.462500   \n",
       "2      1     0  56.527558  72.266609 -61.935252  39.135978  82.538530   \n",
       "3      1     0  55.849928  72.469064 -62.562788  37.988804  82.631347   \n",
       "4      1     0  55.329647  71.707275 -63.688956  36.561863  81.868749   \n",
       "\n",
       "          Z1         X2         Y2 ...  Z8 X9 Y9 Z9 X10 Y10 Z10 X11 Y11 Z11  \n",
       "0   0.000000   0.000000   0.000000 ...   0  0  0  0   0   0   0   0   0   0  \n",
       "1 -72.780545  36.621229  81.680557 ...   ?  ?  ?  ?   ?   ?   ?   ?   ?   ?  \n",
       "2 -49.596509  79.223743  43.254091 ...   ?  ?  ?  ?   ?   ?   ?   ?   ?   ?  \n",
       "3 -50.606259  78.451526  43.567403 ...   ?  ?  ?  ?   ?   ?   ?   ?   ?   ?  \n",
       "4 -52.752784  86.320630  68.214645 ...   ?  ?  ?  ?   ?   ?   ?   ?   ?   ?  \n",
       "\n",
       "[5 rows x 38 columns]"
      ]
     },
     "execution_count": 2,
     "metadata": {},
     "output_type": "execute_result"
    }
   ],
   "source": [
    "dat = pd.read_csv('mocap.csv')\n",
    "dat.head()"
   ]
  },
  {
   "cell_type": "code",
   "execution_count": 3,
   "metadata": {},
   "outputs": [
    {
     "data": {
      "text/html": [
       "<div>\n",
       "<style>\n",
       "    .dataframe thead tr:only-child th {\n",
       "        text-align: right;\n",
       "    }\n",
       "\n",
       "    .dataframe thead th {\n",
       "        text-align: left;\n",
       "    }\n",
       "\n",
       "    .dataframe tbody tr th {\n",
       "        vertical-align: top;\n",
       "    }\n",
       "</style>\n",
       "<table border=\"1\" class=\"dataframe\">\n",
       "  <thead>\n",
       "    <tr style=\"text-align: right;\">\n",
       "      <th></th>\n",
       "      <th>Class</th>\n",
       "      <th>User</th>\n",
       "      <th>X0</th>\n",
       "      <th>Y0</th>\n",
       "      <th>Z0</th>\n",
       "      <th>X1</th>\n",
       "      <th>Y1</th>\n",
       "      <th>Z1</th>\n",
       "      <th>X2</th>\n",
       "      <th>Y2</th>\n",
       "      <th>...</th>\n",
       "      <th>Z8</th>\n",
       "      <th>X9</th>\n",
       "      <th>Y9</th>\n",
       "      <th>Z9</th>\n",
       "      <th>X10</th>\n",
       "      <th>Y10</th>\n",
       "      <th>Z10</th>\n",
       "      <th>X11</th>\n",
       "      <th>Y11</th>\n",
       "      <th>Z11</th>\n",
       "    </tr>\n",
       "  </thead>\n",
       "  <tbody>\n",
       "    <tr>\n",
       "      <th>1</th>\n",
       "      <td>1</td>\n",
       "      <td>0</td>\n",
       "      <td>54.263880</td>\n",
       "      <td>71.466776</td>\n",
       "      <td>-64.807709</td>\n",
       "      <td>76.895635</td>\n",
       "      <td>42.462500</td>\n",
       "      <td>-72.780545</td>\n",
       "      <td>36.621229</td>\n",
       "      <td>81.680557</td>\n",
       "      <td>...</td>\n",
       "      <td>?</td>\n",
       "      <td>?</td>\n",
       "      <td>?</td>\n",
       "      <td>?</td>\n",
       "      <td>?</td>\n",
       "      <td>?</td>\n",
       "      <td>?</td>\n",
       "      <td>?</td>\n",
       "      <td>?</td>\n",
       "      <td>?</td>\n",
       "    </tr>\n",
       "    <tr>\n",
       "      <th>2</th>\n",
       "      <td>1</td>\n",
       "      <td>0</td>\n",
       "      <td>56.527558</td>\n",
       "      <td>72.266609</td>\n",
       "      <td>-61.935252</td>\n",
       "      <td>39.135978</td>\n",
       "      <td>82.538530</td>\n",
       "      <td>-49.596509</td>\n",
       "      <td>79.223743</td>\n",
       "      <td>43.254091</td>\n",
       "      <td>...</td>\n",
       "      <td>?</td>\n",
       "      <td>?</td>\n",
       "      <td>?</td>\n",
       "      <td>?</td>\n",
       "      <td>?</td>\n",
       "      <td>?</td>\n",
       "      <td>?</td>\n",
       "      <td>?</td>\n",
       "      <td>?</td>\n",
       "      <td>?</td>\n",
       "    </tr>\n",
       "    <tr>\n",
       "      <th>3</th>\n",
       "      <td>1</td>\n",
       "      <td>0</td>\n",
       "      <td>55.849928</td>\n",
       "      <td>72.469064</td>\n",
       "      <td>-62.562788</td>\n",
       "      <td>37.988804</td>\n",
       "      <td>82.631347</td>\n",
       "      <td>-50.606259</td>\n",
       "      <td>78.451526</td>\n",
       "      <td>43.567403</td>\n",
       "      <td>...</td>\n",
       "      <td>?</td>\n",
       "      <td>?</td>\n",
       "      <td>?</td>\n",
       "      <td>?</td>\n",
       "      <td>?</td>\n",
       "      <td>?</td>\n",
       "      <td>?</td>\n",
       "      <td>?</td>\n",
       "      <td>?</td>\n",
       "      <td>?</td>\n",
       "    </tr>\n",
       "    <tr>\n",
       "      <th>4</th>\n",
       "      <td>1</td>\n",
       "      <td>0</td>\n",
       "      <td>55.329647</td>\n",
       "      <td>71.707275</td>\n",
       "      <td>-63.688956</td>\n",
       "      <td>36.561863</td>\n",
       "      <td>81.868749</td>\n",
       "      <td>-52.752784</td>\n",
       "      <td>86.320630</td>\n",
       "      <td>68.214645</td>\n",
       "      <td>...</td>\n",
       "      <td>?</td>\n",
       "      <td>?</td>\n",
       "      <td>?</td>\n",
       "      <td>?</td>\n",
       "      <td>?</td>\n",
       "      <td>?</td>\n",
       "      <td>?</td>\n",
       "      <td>?</td>\n",
       "      <td>?</td>\n",
       "      <td>?</td>\n",
       "    </tr>\n",
       "    <tr>\n",
       "      <th>5</th>\n",
       "      <td>1</td>\n",
       "      <td>0</td>\n",
       "      <td>55.142401</td>\n",
       "      <td>71.435607</td>\n",
       "      <td>-64.177303</td>\n",
       "      <td>36.175818</td>\n",
       "      <td>81.556874</td>\n",
       "      <td>-53.475747</td>\n",
       "      <td>76.986143</td>\n",
       "      <td>42.426849</td>\n",
       "      <td>...</td>\n",
       "      <td>?</td>\n",
       "      <td>?</td>\n",
       "      <td>?</td>\n",
       "      <td>?</td>\n",
       "      <td>?</td>\n",
       "      <td>?</td>\n",
       "      <td>?</td>\n",
       "      <td>?</td>\n",
       "      <td>?</td>\n",
       "      <td>?</td>\n",
       "    </tr>\n",
       "  </tbody>\n",
       "</table>\n",
       "<p>5 rows × 38 columns</p>\n",
       "</div>"
      ],
      "text/plain": [
       "   Class  User         X0         Y0         Z0         X1         Y1  \\\n",
       "1      1     0  54.263880  71.466776 -64.807709  76.895635  42.462500   \n",
       "2      1     0  56.527558  72.266609 -61.935252  39.135978  82.538530   \n",
       "3      1     0  55.849928  72.469064 -62.562788  37.988804  82.631347   \n",
       "4      1     0  55.329647  71.707275 -63.688956  36.561863  81.868749   \n",
       "5      1     0  55.142401  71.435607 -64.177303  36.175818  81.556874   \n",
       "\n",
       "          Z1         X2         Y2 ...  Z8 X9 Y9 Z9 X10 Y10 Z10 X11 Y11 Z11  \n",
       "1 -72.780545  36.621229  81.680557 ...   ?  ?  ?  ?   ?   ?   ?   ?   ?   ?  \n",
       "2 -49.596509  79.223743  43.254091 ...   ?  ?  ?  ?   ?   ?   ?   ?   ?   ?  \n",
       "3 -50.606259  78.451526  43.567403 ...   ?  ?  ?  ?   ?   ?   ?   ?   ?   ?  \n",
       "4 -52.752784  86.320630  68.214645 ...   ?  ?  ?  ?   ?   ?   ?   ?   ?   ?  \n",
       "5 -53.475747  76.986143  42.426849 ...   ?  ?  ?  ?   ?   ?   ?   ?   ?   ?  \n",
       "\n",
       "[5 rows x 38 columns]"
      ]
     },
     "execution_count": 3,
     "metadata": {},
     "output_type": "execute_result"
    }
   ],
   "source": [
    "# the first row can be removed (see dataset description)\n",
    "dat = dat.iloc[1:]\n",
    "dat.reset_index\n",
    "dat.head()"
   ]
  },
  {
   "cell_type": "markdown",
   "metadata": {},
   "source": [
    "A useful link on how to get rid of the question marks https://stackoverflow.com/questions/35682719/drop-rows-with-a-question-mark-value-in-any-column-in-a-pandas-dataframe"
   ]
  },
  {
   "cell_type": "code",
   "execution_count": 4,
   "metadata": {},
   "outputs": [
    {
     "data": {
      "text/html": [
       "<div>\n",
       "<style>\n",
       "    .dataframe thead tr:only-child th {\n",
       "        text-align: right;\n",
       "    }\n",
       "\n",
       "    .dataframe thead th {\n",
       "        text-align: left;\n",
       "    }\n",
       "\n",
       "    .dataframe tbody tr th {\n",
       "        vertical-align: top;\n",
       "    }\n",
       "</style>\n",
       "<table border=\"1\" class=\"dataframe\">\n",
       "  <thead>\n",
       "    <tr style=\"text-align: right;\">\n",
       "      <th></th>\n",
       "      <th>Class</th>\n",
       "      <th>User</th>\n",
       "      <th>X0</th>\n",
       "      <th>Y0</th>\n",
       "      <th>Z0</th>\n",
       "      <th>X1</th>\n",
       "      <th>Y1</th>\n",
       "      <th>Z1</th>\n",
       "      <th>X2</th>\n",
       "      <th>Y2</th>\n",
       "      <th>...</th>\n",
       "      <th>Z8</th>\n",
       "      <th>X9</th>\n",
       "      <th>Y9</th>\n",
       "      <th>Z9</th>\n",
       "      <th>X10</th>\n",
       "      <th>Y10</th>\n",
       "      <th>Z10</th>\n",
       "      <th>X11</th>\n",
       "      <th>Y11</th>\n",
       "      <th>Z11</th>\n",
       "    </tr>\n",
       "  </thead>\n",
       "  <tbody>\n",
       "    <tr>\n",
       "      <th>15303</th>\n",
       "      <td>2.0</td>\n",
       "      <td>2.0</td>\n",
       "      <td>27.418588</td>\n",
       "      <td>148.216120</td>\n",
       "      <td>14.770587</td>\n",
       "      <td>49.129027</td>\n",
       "      <td>99.723134</td>\n",
       "      <td>0.883278</td>\n",
       "      <td>92.301344</td>\n",
       "      <td>43.900549</td>\n",
       "      <td>...</td>\n",
       "      <td>7.015468</td>\n",
       "      <td>100.841332</td>\n",
       "      <td>65.337892</td>\n",
       "      <td>-54.651373</td>\n",
       "      <td>77.932709</td>\n",
       "      <td>16.487276</td>\n",
       "      <td>-60.048174</td>\n",
       "      <td>16.113686</td>\n",
       "      <td>-42.471264</td>\n",
       "      <td>-3.140685</td>\n",
       "    </tr>\n",
       "    <tr>\n",
       "      <th>15304</th>\n",
       "      <td>2.0</td>\n",
       "      <td>2.0</td>\n",
       "      <td>99.817462</td>\n",
       "      <td>65.686670</td>\n",
       "      <td>-55.457478</td>\n",
       "      <td>57.653306</td>\n",
       "      <td>152.188853</td>\n",
       "      <td>6.644935</td>\n",
       "      <td>92.276726</td>\n",
       "      <td>43.845759</td>\n",
       "      <td>...</td>\n",
       "      <td>14.037669</td>\n",
       "      <td>-1.211737</td>\n",
       "      <td>88.672706</td>\n",
       "      <td>10.187398</td>\n",
       "      <td>16.482357</td>\n",
       "      <td>-42.641627</td>\n",
       "      <td>-2.050853</td>\n",
       "      <td>2.582169</td>\n",
       "      <td>127.945490</td>\n",
       "      <td>11.415229</td>\n",
       "    </tr>\n",
       "    <tr>\n",
       "      <th>36818</th>\n",
       "      <td>2.0</td>\n",
       "      <td>9.0</td>\n",
       "      <td>71.944991</td>\n",
       "      <td>135.565802</td>\n",
       "      <td>-27.782710</td>\n",
       "      <td>86.536958</td>\n",
       "      <td>66.145021</td>\n",
       "      <td>-39.206386</td>\n",
       "      <td>30.328132</td>\n",
       "      <td>102.824000</td>\n",
       "      <td>...</td>\n",
       "      <td>2.384311</td>\n",
       "      <td>16.416635</td>\n",
       "      <td>127.743800</td>\n",
       "      <td>-19.398255</td>\n",
       "      <td>6.713694</td>\n",
       "      <td>90.193203</td>\n",
       "      <td>-13.508942</td>\n",
       "      <td>84.104979</td>\n",
       "      <td>44.247865</td>\n",
       "      <td>-45.390036</td>\n",
       "    </tr>\n",
       "    <tr>\n",
       "      <th>36819</th>\n",
       "      <td>2.0</td>\n",
       "      <td>9.0</td>\n",
       "      <td>86.346749</td>\n",
       "      <td>66.590273</td>\n",
       "      <td>-38.629277</td>\n",
       "      <td>71.496851</td>\n",
       "      <td>90.724686</td>\n",
       "      <td>-28.165732</td>\n",
       "      <td>51.263880</td>\n",
       "      <td>99.415833</td>\n",
       "      <td>...</td>\n",
       "      <td>-12.430796</td>\n",
       "      <td>78.022520</td>\n",
       "      <td>15.748048</td>\n",
       "      <td>-54.007325</td>\n",
       "      <td>4.626282</td>\n",
       "      <td>26.219870</td>\n",
       "      <td>2.409990</td>\n",
       "      <td>84.350011</td>\n",
       "      <td>44.798182</td>\n",
       "      <td>-44.880864</td>\n",
       "    </tr>\n",
       "    <tr>\n",
       "      <th>36820</th>\n",
       "      <td>2.0</td>\n",
       "      <td>9.0</td>\n",
       "      <td>72.541023</td>\n",
       "      <td>91.001656</td>\n",
       "      <td>-26.329067</td>\n",
       "      <td>87.507036</td>\n",
       "      <td>67.629524</td>\n",
       "      <td>-36.272075</td>\n",
       "      <td>71.195968</td>\n",
       "      <td>135.058671</td>\n",
       "      <td>...</td>\n",
       "      <td>-54.063723</td>\n",
       "      <td>40.442153</td>\n",
       "      <td>154.436985</td>\n",
       "      <td>-6.757292</td>\n",
       "      <td>83.578826</td>\n",
       "      <td>44.363539</td>\n",
       "      <td>-45.550582</td>\n",
       "      <td>5.494588</td>\n",
       "      <td>26.766967</td>\n",
       "      <td>3.806395</td>\n",
       "    </tr>\n",
       "  </tbody>\n",
       "</table>\n",
       "<p>5 rows × 38 columns</p>\n",
       "</div>"
      ],
      "text/plain": [
       "       Class  User         X0          Y0         Z0         X1          Y1  \\\n",
       "15303    2.0   2.0  27.418588  148.216120  14.770587  49.129027   99.723134   \n",
       "15304    2.0   2.0  99.817462   65.686670 -55.457478  57.653306  152.188853   \n",
       "36818    2.0   9.0  71.944991  135.565802 -27.782710  86.536958   66.145021   \n",
       "36819    2.0   9.0  86.346749   66.590273 -38.629277  71.496851   90.724686   \n",
       "36820    2.0   9.0  72.541023   91.001656 -26.329067  87.507036   67.629524   \n",
       "\n",
       "              Z1         X2          Y2    ...             Z8          X9  \\\n",
       "15303   0.883278  92.301344   43.900549    ...       7.015468  100.841332   \n",
       "15304   6.644935  92.276726   43.845759    ...      14.037669   -1.211737   \n",
       "36818 -39.206386  30.328132  102.824000    ...       2.384311   16.416635   \n",
       "36819 -28.165732  51.263880   99.415833    ...     -12.430796   78.022520   \n",
       "36820 -36.272075  71.195968  135.058671    ...     -54.063723   40.442153   \n",
       "\n",
       "               Y9         Z9        X10        Y10        Z10        X11  \\\n",
       "15303   65.337892 -54.651373  77.932709  16.487276 -60.048174  16.113686   \n",
       "15304   88.672706  10.187398  16.482357 -42.641627  -2.050853   2.582169   \n",
       "36818  127.743800 -19.398255   6.713694  90.193203 -13.508942  84.104979   \n",
       "36819   15.748048 -54.007325   4.626282  26.219870   2.409990  84.350011   \n",
       "36820  154.436985  -6.757292  83.578826  44.363539 -45.550582   5.494588   \n",
       "\n",
       "              Y11        Z11  \n",
       "15303  -42.471264  -3.140685  \n",
       "15304  127.945490  11.415229  \n",
       "36818   44.247865 -45.390036  \n",
       "36819   44.798182 -44.880864  \n",
       "36820   26.766967   3.806395  \n",
       "\n",
       "[5 rows x 38 columns]"
      ]
     },
     "execution_count": 4,
     "metadata": {},
     "output_type": "execute_result"
    }
   ],
   "source": [
    "dat2 = dat.replace({'?':np.nan}).dropna().astype(float)\n",
    "dat2.head()"
   ]
  },
  {
   "cell_type": "code",
   "execution_count": 5,
   "metadata": {
    "collapsed": true
   },
   "outputs": [],
   "source": [
    "y = dat2['Class']"
   ]
  },
  {
   "cell_type": "code",
   "execution_count": 6,
   "metadata": {},
   "outputs": [
    {
     "data": {
      "text/plain": [
       "array([ 2.])"
      ]
     },
     "execution_count": 6,
     "metadata": {},
     "output_type": "execute_result"
    }
   ],
   "source": [
    "np.unique(y)"
   ]
  },
  {
   "cell_type": "markdown",
   "metadata": {},
   "source": [
    "However, as we can see we are keeping only one type of hand posture. What to do?"
   ]
  },
  {
   "cell_type": "code",
   "execution_count": 7,
   "metadata": {},
   "outputs": [
    {
     "data": {
      "text/html": [
       "<div>\n",
       "<style>\n",
       "    .dataframe thead tr:only-child th {\n",
       "        text-align: right;\n",
       "    }\n",
       "\n",
       "    .dataframe thead th {\n",
       "        text-align: left;\n",
       "    }\n",
       "\n",
       "    .dataframe tbody tr th {\n",
       "        vertical-align: top;\n",
       "    }\n",
       "</style>\n",
       "<table border=\"1\" class=\"dataframe\">\n",
       "  <thead>\n",
       "    <tr style=\"text-align: right;\">\n",
       "      <th></th>\n",
       "      <th>Class</th>\n",
       "      <th>User</th>\n",
       "      <th>X0</th>\n",
       "      <th>Y0</th>\n",
       "      <th>Z0</th>\n",
       "      <th>X1</th>\n",
       "      <th>Y1</th>\n",
       "      <th>Z1</th>\n",
       "      <th>X2</th>\n",
       "      <th>Y2</th>\n",
       "      <th>...</th>\n",
       "      <th>Z5</th>\n",
       "      <th>X6</th>\n",
       "      <th>Y6</th>\n",
       "      <th>Z6</th>\n",
       "      <th>X7</th>\n",
       "      <th>Y7</th>\n",
       "      <th>Z7</th>\n",
       "      <th>X8</th>\n",
       "      <th>Y8</th>\n",
       "      <th>Z8</th>\n",
       "    </tr>\n",
       "  </thead>\n",
       "  <tbody>\n",
       "    <tr>\n",
       "      <th>1</th>\n",
       "      <td>1</td>\n",
       "      <td>0</td>\n",
       "      <td>54.263880</td>\n",
       "      <td>71.466776</td>\n",
       "      <td>-64.807709</td>\n",
       "      <td>76.895635</td>\n",
       "      <td>42.462500</td>\n",
       "      <td>-72.780545</td>\n",
       "      <td>36.621229</td>\n",
       "      <td>81.680557</td>\n",
       "      <td>...</td>\n",
       "      <td>?</td>\n",
       "      <td>?</td>\n",
       "      <td>?</td>\n",
       "      <td>?</td>\n",
       "      <td>?</td>\n",
       "      <td>?</td>\n",
       "      <td>?</td>\n",
       "      <td>?</td>\n",
       "      <td>?</td>\n",
       "      <td>?</td>\n",
       "    </tr>\n",
       "    <tr>\n",
       "      <th>2</th>\n",
       "      <td>1</td>\n",
       "      <td>0</td>\n",
       "      <td>56.527558</td>\n",
       "      <td>72.266609</td>\n",
       "      <td>-61.935252</td>\n",
       "      <td>39.135978</td>\n",
       "      <td>82.538530</td>\n",
       "      <td>-49.596509</td>\n",
       "      <td>79.223743</td>\n",
       "      <td>43.254091</td>\n",
       "      <td>...</td>\n",
       "      <td>?</td>\n",
       "      <td>?</td>\n",
       "      <td>?</td>\n",
       "      <td>?</td>\n",
       "      <td>?</td>\n",
       "      <td>?</td>\n",
       "      <td>?</td>\n",
       "      <td>?</td>\n",
       "      <td>?</td>\n",
       "      <td>?</td>\n",
       "    </tr>\n",
       "    <tr>\n",
       "      <th>3</th>\n",
       "      <td>1</td>\n",
       "      <td>0</td>\n",
       "      <td>55.849928</td>\n",
       "      <td>72.469064</td>\n",
       "      <td>-62.562788</td>\n",
       "      <td>37.988804</td>\n",
       "      <td>82.631347</td>\n",
       "      <td>-50.606259</td>\n",
       "      <td>78.451526</td>\n",
       "      <td>43.567403</td>\n",
       "      <td>...</td>\n",
       "      <td>?</td>\n",
       "      <td>?</td>\n",
       "      <td>?</td>\n",
       "      <td>?</td>\n",
       "      <td>?</td>\n",
       "      <td>?</td>\n",
       "      <td>?</td>\n",
       "      <td>?</td>\n",
       "      <td>?</td>\n",
       "      <td>?</td>\n",
       "    </tr>\n",
       "    <tr>\n",
       "      <th>4</th>\n",
       "      <td>1</td>\n",
       "      <td>0</td>\n",
       "      <td>55.329647</td>\n",
       "      <td>71.707275</td>\n",
       "      <td>-63.688956</td>\n",
       "      <td>36.561863</td>\n",
       "      <td>81.868749</td>\n",
       "      <td>-52.752784</td>\n",
       "      <td>86.320630</td>\n",
       "      <td>68.214645</td>\n",
       "      <td>...</td>\n",
       "      <td>?</td>\n",
       "      <td>?</td>\n",
       "      <td>?</td>\n",
       "      <td>?</td>\n",
       "      <td>?</td>\n",
       "      <td>?</td>\n",
       "      <td>?</td>\n",
       "      <td>?</td>\n",
       "      <td>?</td>\n",
       "      <td>?</td>\n",
       "    </tr>\n",
       "    <tr>\n",
       "      <th>5</th>\n",
       "      <td>1</td>\n",
       "      <td>0</td>\n",
       "      <td>55.142401</td>\n",
       "      <td>71.435607</td>\n",
       "      <td>-64.177303</td>\n",
       "      <td>36.175818</td>\n",
       "      <td>81.556874</td>\n",
       "      <td>-53.475747</td>\n",
       "      <td>76.986143</td>\n",
       "      <td>42.426849</td>\n",
       "      <td>...</td>\n",
       "      <td>?</td>\n",
       "      <td>?</td>\n",
       "      <td>?</td>\n",
       "      <td>?</td>\n",
       "      <td>?</td>\n",
       "      <td>?</td>\n",
       "      <td>?</td>\n",
       "      <td>?</td>\n",
       "      <td>?</td>\n",
       "      <td>?</td>\n",
       "    </tr>\n",
       "  </tbody>\n",
       "</table>\n",
       "<p>5 rows × 29 columns</p>\n",
       "</div>"
      ],
      "text/plain": [
       "   Class  User         X0         Y0         Z0         X1         Y1  \\\n",
       "1      1     0  54.263880  71.466776 -64.807709  76.895635  42.462500   \n",
       "2      1     0  56.527558  72.266609 -61.935252  39.135978  82.538530   \n",
       "3      1     0  55.849928  72.469064 -62.562788  37.988804  82.631347   \n",
       "4      1     0  55.329647  71.707275 -63.688956  36.561863  81.868749   \n",
       "5      1     0  55.142401  71.435607 -64.177303  36.175818  81.556874   \n",
       "\n",
       "          Z1         X2         Y2 ...  Z5 X6 Y6 Z6 X7 Y7 Z7 X8 Y8 Z8  \n",
       "1 -72.780545  36.621229  81.680557 ...   ?  ?  ?  ?  ?  ?  ?  ?  ?  ?  \n",
       "2 -49.596509  79.223743  43.254091 ...   ?  ?  ?  ?  ?  ?  ?  ?  ?  ?  \n",
       "3 -50.606259  78.451526  43.567403 ...   ?  ?  ?  ?  ?  ?  ?  ?  ?  ?  \n",
       "4 -52.752784  86.320630  68.214645 ...   ?  ?  ?  ?  ?  ?  ?  ?  ?  ?  \n",
       "5 -53.475747  76.986143  42.426849 ...   ?  ?  ?  ?  ?  ?  ?  ?  ?  ?  \n",
       "\n",
       "[5 rows x 29 columns]"
      ]
     },
     "execution_count": 7,
     "metadata": {},
     "output_type": "execute_result"
    }
   ],
   "source": [
    "#dat3 = dat.drop(['X8', 'Y8', 'Z8', 'X9', 'Y9', 'Z9', 'X10', 'Y10','Z10', 'X11', 'Y11', 'Z11'], axis=1)\n",
    "dat3 = dat.drop(['X9', 'Y9', 'Z9', 'X10', 'Y10','Z10', 'X11', 'Y11', 'Z11'], axis=1)\n",
    "dat3.head()"
   ]
  },
  {
   "cell_type": "code",
   "execution_count": 8,
   "metadata": {},
   "outputs": [
    {
     "data": {
      "text/html": [
       "<div>\n",
       "<style>\n",
       "    .dataframe thead tr:only-child th {\n",
       "        text-align: right;\n",
       "    }\n",
       "\n",
       "    .dataframe thead th {\n",
       "        text-align: left;\n",
       "    }\n",
       "\n",
       "    .dataframe tbody tr th {\n",
       "        vertical-align: top;\n",
       "    }\n",
       "</style>\n",
       "<table border=\"1\" class=\"dataframe\">\n",
       "  <thead>\n",
       "    <tr style=\"text-align: right;\">\n",
       "      <th></th>\n",
       "      <th>Class</th>\n",
       "      <th>User</th>\n",
       "      <th>X0</th>\n",
       "      <th>Y0</th>\n",
       "      <th>Z0</th>\n",
       "      <th>X1</th>\n",
       "      <th>Y1</th>\n",
       "      <th>Z1</th>\n",
       "      <th>X2</th>\n",
       "      <th>Y2</th>\n",
       "      <th>...</th>\n",
       "      <th>Z5</th>\n",
       "      <th>X6</th>\n",
       "      <th>Y6</th>\n",
       "      <th>Z6</th>\n",
       "      <th>X7</th>\n",
       "      <th>Y7</th>\n",
       "      <th>Z7</th>\n",
       "      <th>X8</th>\n",
       "      <th>Y8</th>\n",
       "      <th>Z8</th>\n",
       "    </tr>\n",
       "  </thead>\n",
       "  <tbody>\n",
       "    <tr>\n",
       "      <th>1873</th>\n",
       "      <td>2.0</td>\n",
       "      <td>0.0</td>\n",
       "      <td>63.554969</td>\n",
       "      <td>98.490988</td>\n",
       "      <td>11.165920</td>\n",
       "      <td>49.159831</td>\n",
       "      <td>154.330730</td>\n",
       "      <td>32.004168</td>\n",
       "      <td>92.793124</td>\n",
       "      <td>137.143202</td>\n",
       "      <td>...</td>\n",
       "      <td>-71.713081</td>\n",
       "      <td>12.660462</td>\n",
       "      <td>95.077144</td>\n",
       "      <td>29.664434</td>\n",
       "      <td>84.110115</td>\n",
       "      <td>151.545456</td>\n",
       "      <td>16.891147</td>\n",
       "      <td>79.185592</td>\n",
       "      <td>54.753463</td>\n",
       "      <td>-72.462285</td>\n",
       "    </tr>\n",
       "    <tr>\n",
       "      <th>1874</th>\n",
       "      <td>2.0</td>\n",
       "      <td>0.0</td>\n",
       "      <td>80.873812</td>\n",
       "      <td>93.722537</td>\n",
       "      <td>-4.988816</td>\n",
       "      <td>63.572103</td>\n",
       "      <td>98.476638</td>\n",
       "      <td>11.242908</td>\n",
       "      <td>49.142700</td>\n",
       "      <td>154.347050</td>\n",
       "      <td>...</td>\n",
       "      <td>35.349247</td>\n",
       "      <td>92.942044</td>\n",
       "      <td>137.182817</td>\n",
       "      <td>1.297511</td>\n",
       "      <td>35.480104</td>\n",
       "      <td>99.739019</td>\n",
       "      <td>22.802243</td>\n",
       "      <td>83.936993</td>\n",
       "      <td>151.633126</td>\n",
       "      <td>16.718403</td>\n",
       "    </tr>\n",
       "    <tr>\n",
       "      <th>1875</th>\n",
       "      <td>2.0</td>\n",
       "      <td>0.0</td>\n",
       "      <td>80.775150</td>\n",
       "      <td>93.705283</td>\n",
       "      <td>-5.090904</td>\n",
       "      <td>63.479609</td>\n",
       "      <td>98.429524</td>\n",
       "      <td>11.161413</td>\n",
       "      <td>48.924111</td>\n",
       "      <td>154.340338</td>\n",
       "      <td>...</td>\n",
       "      <td>-74.222778</td>\n",
       "      <td>20.499495</td>\n",
       "      <td>132.863377</td>\n",
       "      <td>35.309544</td>\n",
       "      <td>58.297882</td>\n",
       "      <td>27.583892</td>\n",
       "      <td>-71.888449</td>\n",
       "      <td>13.286942</td>\n",
       "      <td>95.053108</td>\n",
       "      <td>30.491436</td>\n",
       "    </tr>\n",
       "    <tr>\n",
       "      <th>1876</th>\n",
       "      <td>2.0</td>\n",
       "      <td>0.0</td>\n",
       "      <td>80.618164</td>\n",
       "      <td>93.781461</td>\n",
       "      <td>-5.012812</td>\n",
       "      <td>63.213130</td>\n",
       "      <td>98.462919</td>\n",
       "      <td>11.045095</td>\n",
       "      <td>48.777435</td>\n",
       "      <td>154.327283</td>\n",
       "      <td>...</td>\n",
       "      <td>1.859117</td>\n",
       "      <td>83.404493</td>\n",
       "      <td>151.744359</td>\n",
       "      <td>16.542773</td>\n",
       "      <td>95.314840</td>\n",
       "      <td>73.900253</td>\n",
       "      <td>-73.894505</td>\n",
       "      <td>20.628186</td>\n",
       "      <td>132.787591</td>\n",
       "      <td>35.836072</td>\n",
       "    </tr>\n",
       "    <tr>\n",
       "      <th>1877</th>\n",
       "      <td>2.0</td>\n",
       "      <td>0.0</td>\n",
       "      <td>79.870413</td>\n",
       "      <td>93.921192</td>\n",
       "      <td>-5.628231</td>\n",
       "      <td>79.239570</td>\n",
       "      <td>55.197852</td>\n",
       "      <td>-72.374008</td>\n",
       "      <td>48.446947</td>\n",
       "      <td>154.215388</td>\n",
       "      <td>...</td>\n",
       "      <td>-72.683063</td>\n",
       "      <td>83.279689</td>\n",
       "      <td>151.629068</td>\n",
       "      <td>16.999059</td>\n",
       "      <td>58.050614</td>\n",
       "      <td>27.980287</td>\n",
       "      <td>-72.379748</td>\n",
       "      <td>20.453203</td>\n",
       "      <td>132.633282</td>\n",
       "      <td>36.134339</td>\n",
       "    </tr>\n",
       "  </tbody>\n",
       "</table>\n",
       "<p>5 rows × 29 columns</p>\n",
       "</div>"
      ],
      "text/plain": [
       "      Class  User         X0         Y0         Z0         X1          Y1  \\\n",
       "1873    2.0   0.0  63.554969  98.490988  11.165920  49.159831  154.330730   \n",
       "1874    2.0   0.0  80.873812  93.722537  -4.988816  63.572103   98.476638   \n",
       "1875    2.0   0.0  80.775150  93.705283  -5.090904  63.479609   98.429524   \n",
       "1876    2.0   0.0  80.618164  93.781461  -5.012812  63.213130   98.462919   \n",
       "1877    2.0   0.0  79.870413  93.921192  -5.628231  79.239570   55.197852   \n",
       "\n",
       "             Z1         X2          Y2    ...             Z5         X6  \\\n",
       "1873  32.004168  92.793124  137.143202    ...     -71.713081  12.660462   \n",
       "1874  11.242908  49.142700  154.347050    ...      35.349247  92.942044   \n",
       "1875  11.161413  48.924111  154.340338    ...     -74.222778  20.499495   \n",
       "1876  11.045095  48.777435  154.327283    ...       1.859117  83.404493   \n",
       "1877 -72.374008  48.446947  154.215388    ...     -72.683063  83.279689   \n",
       "\n",
       "              Y6         Z6         X7          Y7         Z7         X8  \\\n",
       "1873   95.077144  29.664434  84.110115  151.545456  16.891147  79.185592   \n",
       "1874  137.182817   1.297511  35.480104   99.739019  22.802243  83.936993   \n",
       "1875  132.863377  35.309544  58.297882   27.583892 -71.888449  13.286942   \n",
       "1876  151.744359  16.542773  95.314840   73.900253 -73.894505  20.628186   \n",
       "1877  151.629068  16.999059  58.050614   27.980287 -72.379748  20.453203   \n",
       "\n",
       "              Y8         Z8  \n",
       "1873   54.753463 -72.462285  \n",
       "1874  151.633126  16.718403  \n",
       "1875   95.053108  30.491436  \n",
       "1876  132.787591  35.836072  \n",
       "1877  132.633282  36.134339  \n",
       "\n",
       "[5 rows x 29 columns]"
      ]
     },
     "execution_count": 8,
     "metadata": {},
     "output_type": "execute_result"
    }
   ],
   "source": [
    "dat3 = dat3.replace({'?':np.nan}).dropna().astype(float)\n",
    "dat3.head()"
   ]
  },
  {
   "cell_type": "code",
   "execution_count": 9,
   "metadata": {},
   "outputs": [
    {
     "data": {
      "text/plain": [
       "array([ 1.,  2.,  3.,  4.,  5.])"
      ]
     },
     "execution_count": 9,
     "metadata": {},
     "output_type": "execute_result"
    }
   ],
   "source": [
    "y=dat3['Class']\n",
    "np.unique(y)"
   ]
  },
  {
   "cell_type": "markdown",
   "metadata": {},
   "source": [
    "So I think we can use the above dataset as an example"
   ]
  },
  {
   "cell_type": "code",
   "execution_count": 10,
   "metadata": {
    "collapsed": true
   },
   "outputs": [],
   "source": [
    "X=np.array(dat3.iloc[:,2:])"
   ]
  },
  {
   "cell_type": "code",
   "execution_count": 11,
   "metadata": {},
   "outputs": [
    {
     "data": {
      "text/plain": [
       "(30563, 27)"
      ]
     },
     "execution_count": 11,
     "metadata": {},
     "output_type": "execute_result"
    }
   ],
   "source": [
    "X.shape"
   ]
  },
  {
   "cell_type": "code",
   "execution_count": 84,
   "metadata": {
    "collapsed": true
   },
   "outputs": [],
   "source": [
    "from sklearn.model_selection import train_test_split\n",
    "\n",
    "X_train1, X_test1, y_train1, y_test1 = train_test_split(X,y, test_size=0.5, random_state=42)\n",
    "X_train2, X_test2, y_train2, y_test2 = train_test_split(X,y, test_size=0.5, random_state=0)"
   ]
  },
  {
   "cell_type": "code",
   "execution_count": 85,
   "metadata": {},
   "outputs": [],
   "source": [
    "from sklearn.preprocessing import StandardScaler\n",
    "sc = StandardScaler()\n",
    "X_train1_std = sc.fit_transform(X_train1)\n",
    "X_train2_std = sc.fit_transform(X_train2)"
   ]
  },
  {
   "cell_type": "markdown",
   "metadata": {},
   "source": [
    "## 2. KMeans"
   ]
  },
  {
   "cell_type": "code",
   "execution_count": 88,
   "metadata": {},
   "outputs": [
    {
     "name": "stdout",
     "output_type": "stream",
     "text": [
      "K-Means++ execution time:\n",
      "--- 0.8106899261474609 seconds ---\n"
     ]
    }
   ],
   "source": [
    "# we know from the description of the dataset that there are 5 different postures.\n",
    "# can we reproduce them?\n",
    "from sklearn.cluster import KMeans\n",
    "import time\n",
    "km = KMeans(n_clusters = 5, init = 'k-means++', n_init=10, max_iter=300, tol=1e-4,random_state=42)\n",
    "start_time = time.time()\n",
    "km.fit(X_train1)\n",
    "end_time = time.time()\n",
    "print('K-Means++ execution time:')\n",
    "print(\"--- %s seconds ---\" % (end_time - start_time))"
   ]
  },
  {
   "cell_type": "code",
   "execution_count": 89,
   "metadata": {},
   "outputs": [
    {
     "data": {
      "text/plain": [
       "array([0, 1, 2, 3, 4], dtype=int32)"
      ]
     },
     "execution_count": 89,
     "metadata": {},
     "output_type": "execute_result"
    }
   ],
   "source": [
    "y_km = km.predict(X_test1)\n",
    "np.unique(y_km)"
   ]
  },
  {
   "cell_type": "markdown",
   "metadata": {},
   "source": [
    "So there are 5 different clusters."
   ]
  },
  {
   "cell_type": "code",
   "execution_count": 90,
   "metadata": {},
   "outputs": [
    {
     "name": "stdout",
     "output_type": "stream",
     "text": [
      "[[   0    0    0    0    0    0]\n",
      " [   2    4   11    6    1    0]\n",
      " [ 965 1822 1665 2600  282    0]\n",
      " [  14    9    8    7    3    0]\n",
      " [ 304  371  164  228  112    0]\n",
      " [1039 1218  921 1218 2308    0]]\n"
     ]
    }
   ],
   "source": [
    "from sklearn.metrics import confusion_matrix\n",
    "\n",
    "confmat = confusion_matrix(y_true = y_test, y_pred = y_km)\n",
    "\n",
    "print(confmat)"
   ]
  },
  {
   "cell_type": "markdown",
   "metadata": {},
   "source": [
    "It's not very diagonal matrix"
   ]
  },
  {
   "cell_type": "code",
   "execution_count": 91,
   "metadata": {},
   "outputs": [
    {
     "data": {
      "text/html": [
       "<div>\n",
       "<style>\n",
       "    .dataframe thead tr:only-child th {\n",
       "        text-align: right;\n",
       "    }\n",
       "\n",
       "    .dataframe thead th {\n",
       "        text-align: left;\n",
       "    }\n",
       "\n",
       "    .dataframe tbody tr th {\n",
       "        vertical-align: top;\n",
       "    }\n",
       "</style>\n",
       "<table border=\"1\" class=\"dataframe\">\n",
       "  <thead>\n",
       "    <tr style=\"text-align: right;\">\n",
       "      <th></th>\n",
       "      <th>Class</th>\n",
       "      <th>User</th>\n",
       "      <th>X0</th>\n",
       "      <th>Y0</th>\n",
       "      <th>Z0</th>\n",
       "      <th>X1</th>\n",
       "      <th>Y1</th>\n",
       "      <th>Z1</th>\n",
       "      <th>X2</th>\n",
       "      <th>Y2</th>\n",
       "      <th>...</th>\n",
       "      <th>Z8</th>\n",
       "      <th>X9</th>\n",
       "      <th>Y9</th>\n",
       "      <th>Z9</th>\n",
       "      <th>X10</th>\n",
       "      <th>Y10</th>\n",
       "      <th>Z10</th>\n",
       "      <th>X11</th>\n",
       "      <th>Y11</th>\n",
       "      <th>Z11</th>\n",
       "    </tr>\n",
       "  </thead>\n",
       "  <tbody>\n",
       "    <tr>\n",
       "      <th>15303</th>\n",
       "      <td>2.0</td>\n",
       "      <td>2.0</td>\n",
       "      <td>27.418588</td>\n",
       "      <td>148.216120</td>\n",
       "      <td>14.770587</td>\n",
       "      <td>49.129027</td>\n",
       "      <td>99.723134</td>\n",
       "      <td>0.883278</td>\n",
       "      <td>92.301344</td>\n",
       "      <td>43.900549</td>\n",
       "      <td>...</td>\n",
       "      <td>7.015468</td>\n",
       "      <td>100.841332</td>\n",
       "      <td>65.337892</td>\n",
       "      <td>-54.651373</td>\n",
       "      <td>77.932709</td>\n",
       "      <td>16.487276</td>\n",
       "      <td>-60.048174</td>\n",
       "      <td>16.113686</td>\n",
       "      <td>-42.471264</td>\n",
       "      <td>-3.140685</td>\n",
       "    </tr>\n",
       "    <tr>\n",
       "      <th>15304</th>\n",
       "      <td>2.0</td>\n",
       "      <td>2.0</td>\n",
       "      <td>99.817462</td>\n",
       "      <td>65.686670</td>\n",
       "      <td>-55.457478</td>\n",
       "      <td>57.653306</td>\n",
       "      <td>152.188853</td>\n",
       "      <td>6.644935</td>\n",
       "      <td>92.276726</td>\n",
       "      <td>43.845759</td>\n",
       "      <td>...</td>\n",
       "      <td>14.037669</td>\n",
       "      <td>-1.211737</td>\n",
       "      <td>88.672706</td>\n",
       "      <td>10.187398</td>\n",
       "      <td>16.482357</td>\n",
       "      <td>-42.641627</td>\n",
       "      <td>-2.050853</td>\n",
       "      <td>2.582169</td>\n",
       "      <td>127.945490</td>\n",
       "      <td>11.415229</td>\n",
       "    </tr>\n",
       "    <tr>\n",
       "      <th>36818</th>\n",
       "      <td>2.0</td>\n",
       "      <td>9.0</td>\n",
       "      <td>71.944991</td>\n",
       "      <td>135.565802</td>\n",
       "      <td>-27.782710</td>\n",
       "      <td>86.536958</td>\n",
       "      <td>66.145021</td>\n",
       "      <td>-39.206386</td>\n",
       "      <td>30.328132</td>\n",
       "      <td>102.824000</td>\n",
       "      <td>...</td>\n",
       "      <td>2.384311</td>\n",
       "      <td>16.416635</td>\n",
       "      <td>127.743800</td>\n",
       "      <td>-19.398255</td>\n",
       "      <td>6.713694</td>\n",
       "      <td>90.193203</td>\n",
       "      <td>-13.508942</td>\n",
       "      <td>84.104979</td>\n",
       "      <td>44.247865</td>\n",
       "      <td>-45.390036</td>\n",
       "    </tr>\n",
       "    <tr>\n",
       "      <th>36819</th>\n",
       "      <td>2.0</td>\n",
       "      <td>9.0</td>\n",
       "      <td>86.346749</td>\n",
       "      <td>66.590273</td>\n",
       "      <td>-38.629277</td>\n",
       "      <td>71.496851</td>\n",
       "      <td>90.724686</td>\n",
       "      <td>-28.165732</td>\n",
       "      <td>51.263880</td>\n",
       "      <td>99.415833</td>\n",
       "      <td>...</td>\n",
       "      <td>-12.430796</td>\n",
       "      <td>78.022520</td>\n",
       "      <td>15.748048</td>\n",
       "      <td>-54.007325</td>\n",
       "      <td>4.626282</td>\n",
       "      <td>26.219870</td>\n",
       "      <td>2.409990</td>\n",
       "      <td>84.350011</td>\n",
       "      <td>44.798182</td>\n",
       "      <td>-44.880864</td>\n",
       "    </tr>\n",
       "    <tr>\n",
       "      <th>36820</th>\n",
       "      <td>2.0</td>\n",
       "      <td>9.0</td>\n",
       "      <td>72.541023</td>\n",
       "      <td>91.001656</td>\n",
       "      <td>-26.329067</td>\n",
       "      <td>87.507036</td>\n",
       "      <td>67.629524</td>\n",
       "      <td>-36.272075</td>\n",
       "      <td>71.195968</td>\n",
       "      <td>135.058671</td>\n",
       "      <td>...</td>\n",
       "      <td>-54.063723</td>\n",
       "      <td>40.442153</td>\n",
       "      <td>154.436985</td>\n",
       "      <td>-6.757292</td>\n",
       "      <td>83.578826</td>\n",
       "      <td>44.363539</td>\n",
       "      <td>-45.550582</td>\n",
       "      <td>5.494588</td>\n",
       "      <td>26.766967</td>\n",
       "      <td>3.806395</td>\n",
       "    </tr>\n",
       "  </tbody>\n",
       "</table>\n",
       "<p>5 rows × 38 columns</p>\n",
       "</div>"
      ],
      "text/plain": [
       "       Class  User         X0          Y0         Z0         X1          Y1  \\\n",
       "15303    2.0   2.0  27.418588  148.216120  14.770587  49.129027   99.723134   \n",
       "15304    2.0   2.0  99.817462   65.686670 -55.457478  57.653306  152.188853   \n",
       "36818    2.0   9.0  71.944991  135.565802 -27.782710  86.536958   66.145021   \n",
       "36819    2.0   9.0  86.346749   66.590273 -38.629277  71.496851   90.724686   \n",
       "36820    2.0   9.0  72.541023   91.001656 -26.329067  87.507036   67.629524   \n",
       "\n",
       "              Z1         X2          Y2    ...             Z8          X9  \\\n",
       "15303   0.883278  92.301344   43.900549    ...       7.015468  100.841332   \n",
       "15304   6.644935  92.276726   43.845759    ...      14.037669   -1.211737   \n",
       "36818 -39.206386  30.328132  102.824000    ...       2.384311   16.416635   \n",
       "36819 -28.165732  51.263880   99.415833    ...     -12.430796   78.022520   \n",
       "36820 -36.272075  71.195968  135.058671    ...     -54.063723   40.442153   \n",
       "\n",
       "               Y9         Z9        X10        Y10        Z10        X11  \\\n",
       "15303   65.337892 -54.651373  77.932709  16.487276 -60.048174  16.113686   \n",
       "15304   88.672706  10.187398  16.482357 -42.641627  -2.050853   2.582169   \n",
       "36818  127.743800 -19.398255   6.713694  90.193203 -13.508942  84.104979   \n",
       "36819   15.748048 -54.007325   4.626282  26.219870   2.409990  84.350011   \n",
       "36820  154.436985  -6.757292  83.578826  44.363539 -45.550582   5.494588   \n",
       "\n",
       "              Y11        Z11  \n",
       "15303  -42.471264  -3.140685  \n",
       "15304  127.945490  11.415229  \n",
       "36818   44.247865 -45.390036  \n",
       "36819   44.798182 -44.880864  \n",
       "36820   26.766967   3.806395  \n",
       "\n",
       "[5 rows x 38 columns]"
      ]
     },
     "execution_count": 91,
     "metadata": {},
     "output_type": "execute_result"
    }
   ],
   "source": [
    "# now retrieving the data belonging only to one cluster.\n",
    "dat4 = dat.replace({'?':np.nan}).dropna().astype(float)\n",
    "dat4.head()"
   ]
  },
  {
   "cell_type": "code",
   "execution_count": 92,
   "metadata": {},
   "outputs": [],
   "source": [
    "y4 = np.array(dat4['Class'])"
   ]
  },
  {
   "cell_type": "code",
   "execution_count": 93,
   "metadata": {},
   "outputs": [
    {
     "data": {
      "text/plain": [
       "array([ 2.])"
      ]
     },
     "execution_count": 93,
     "metadata": {},
     "output_type": "execute_result"
    }
   ],
   "source": [
    "np.unique(y4)"
   ]
  },
  {
   "cell_type": "code",
   "execution_count": 94,
   "metadata": {
    "collapsed": true
   },
   "outputs": [],
   "source": [
    "dat4 = dat4.drop(['X9', 'Y9', 'Z9', 'X10', 'Y10','Z10', 'X11', 'Y11', 'Z11'], axis=1)"
   ]
  },
  {
   "cell_type": "code",
   "execution_count": 95,
   "metadata": {},
   "outputs": [
    {
     "data": {
      "text/html": [
       "<div>\n",
       "<style>\n",
       "    .dataframe thead tr:only-child th {\n",
       "        text-align: right;\n",
       "    }\n",
       "\n",
       "    .dataframe thead th {\n",
       "        text-align: left;\n",
       "    }\n",
       "\n",
       "    .dataframe tbody tr th {\n",
       "        vertical-align: top;\n",
       "    }\n",
       "</style>\n",
       "<table border=\"1\" class=\"dataframe\">\n",
       "  <thead>\n",
       "    <tr style=\"text-align: right;\">\n",
       "      <th></th>\n",
       "      <th>Class</th>\n",
       "      <th>User</th>\n",
       "      <th>X0</th>\n",
       "      <th>Y0</th>\n",
       "      <th>Z0</th>\n",
       "      <th>X1</th>\n",
       "      <th>Y1</th>\n",
       "      <th>Z1</th>\n",
       "      <th>X2</th>\n",
       "      <th>Y2</th>\n",
       "      <th>...</th>\n",
       "      <th>Z5</th>\n",
       "      <th>X6</th>\n",
       "      <th>Y6</th>\n",
       "      <th>Z6</th>\n",
       "      <th>X7</th>\n",
       "      <th>Y7</th>\n",
       "      <th>Z7</th>\n",
       "      <th>X8</th>\n",
       "      <th>Y8</th>\n",
       "      <th>Z8</th>\n",
       "    </tr>\n",
       "  </thead>\n",
       "  <tbody>\n",
       "    <tr>\n",
       "      <th>15303</th>\n",
       "      <td>2.0</td>\n",
       "      <td>2.0</td>\n",
       "      <td>27.418588</td>\n",
       "      <td>148.216120</td>\n",
       "      <td>14.770587</td>\n",
       "      <td>49.129027</td>\n",
       "      <td>99.723134</td>\n",
       "      <td>0.883278</td>\n",
       "      <td>92.301344</td>\n",
       "      <td>43.900549</td>\n",
       "      <td>...</td>\n",
       "      <td>-13.927111</td>\n",
       "      <td>26.918575</td>\n",
       "      <td>96.473093</td>\n",
       "      <td>7.943128</td>\n",
       "      <td>2.713287</td>\n",
       "      <td>128.110776</td>\n",
       "      <td>12.249793</td>\n",
       "      <td>57.712082</td>\n",
       "      <td>152.482286</td>\n",
       "      <td>7.015468</td>\n",
       "    </tr>\n",
       "    <tr>\n",
       "      <th>15304</th>\n",
       "      <td>2.0</td>\n",
       "      <td>2.0</td>\n",
       "      <td>99.817462</td>\n",
       "      <td>65.686670</td>\n",
       "      <td>-55.457478</td>\n",
       "      <td>57.653306</td>\n",
       "      <td>152.188853</td>\n",
       "      <td>6.644935</td>\n",
       "      <td>92.276726</td>\n",
       "      <td>43.845759</td>\n",
       "      <td>...</td>\n",
       "      <td>-59.970008</td>\n",
       "      <td>25.734719</td>\n",
       "      <td>96.820081</td>\n",
       "      <td>6.548833</td>\n",
       "      <td>50.689160</td>\n",
       "      <td>98.715470</td>\n",
       "      <td>2.405460</td>\n",
       "      <td>26.914463</td>\n",
       "      <td>148.439662</td>\n",
       "      <td>14.037669</td>\n",
       "    </tr>\n",
       "    <tr>\n",
       "      <th>36818</th>\n",
       "      <td>2.0</td>\n",
       "      <td>9.0</td>\n",
       "      <td>71.944991</td>\n",
       "      <td>135.565802</td>\n",
       "      <td>-27.782710</td>\n",
       "      <td>86.536958</td>\n",
       "      <td>66.145021</td>\n",
       "      <td>-39.206386</td>\n",
       "      <td>30.328132</td>\n",
       "      <td>102.824000</td>\n",
       "      <td>...</td>\n",
       "      <td>-28.889918</td>\n",
       "      <td>39.269487</td>\n",
       "      <td>154.228493</td>\n",
       "      <td>-10.139208</td>\n",
       "      <td>76.943159</td>\n",
       "      <td>14.632435</td>\n",
       "      <td>-55.229815</td>\n",
       "      <td>4.498580</td>\n",
       "      <td>26.380901</td>\n",
       "      <td>2.384311</td>\n",
       "    </tr>\n",
       "    <tr>\n",
       "      <th>36819</th>\n",
       "      <td>2.0</td>\n",
       "      <td>9.0</td>\n",
       "      <td>86.346749</td>\n",
       "      <td>66.590273</td>\n",
       "      <td>-38.629277</td>\n",
       "      <td>71.496851</td>\n",
       "      <td>90.724686</td>\n",
       "      <td>-28.165732</td>\n",
       "      <td>51.263880</td>\n",
       "      <td>99.415833</td>\n",
       "      <td>...</td>\n",
       "      <td>-19.683871</td>\n",
       "      <td>60.146068</td>\n",
       "      <td>155.526863</td>\n",
       "      <td>-15.275475</td>\n",
       "      <td>39.462353</td>\n",
       "      <td>154.439961</td>\n",
       "      <td>-9.055373</td>\n",
       "      <td>7.065014</td>\n",
       "      <td>90.432980</td>\n",
       "      <td>-12.430796</td>\n",
       "    </tr>\n",
       "    <tr>\n",
       "      <th>36820</th>\n",
       "      <td>2.0</td>\n",
       "      <td>9.0</td>\n",
       "      <td>72.541023</td>\n",
       "      <td>91.001656</td>\n",
       "      <td>-26.329067</td>\n",
       "      <td>87.507036</td>\n",
       "      <td>67.629524</td>\n",
       "      <td>-36.272075</td>\n",
       "      <td>71.195968</td>\n",
       "      <td>135.058671</td>\n",
       "      <td>...</td>\n",
       "      <td>-16.148706</td>\n",
       "      <td>29.429498</td>\n",
       "      <td>101.610880</td>\n",
       "      <td>-10.343133</td>\n",
       "      <td>60.453276</td>\n",
       "      <td>155.034340</td>\n",
       "      <td>-13.923854</td>\n",
       "      <td>77.871421</td>\n",
       "      <td>16.185150</td>\n",
       "      <td>-54.063723</td>\n",
       "    </tr>\n",
       "  </tbody>\n",
       "</table>\n",
       "<p>5 rows × 29 columns</p>\n",
       "</div>"
      ],
      "text/plain": [
       "       Class  User         X0          Y0         Z0         X1          Y1  \\\n",
       "15303    2.0   2.0  27.418588  148.216120  14.770587  49.129027   99.723134   \n",
       "15304    2.0   2.0  99.817462   65.686670 -55.457478  57.653306  152.188853   \n",
       "36818    2.0   9.0  71.944991  135.565802 -27.782710  86.536958   66.145021   \n",
       "36819    2.0   9.0  86.346749   66.590273 -38.629277  71.496851   90.724686   \n",
       "36820    2.0   9.0  72.541023   91.001656 -26.329067  87.507036   67.629524   \n",
       "\n",
       "              Z1         X2          Y2    ...             Z5         X6  \\\n",
       "15303   0.883278  92.301344   43.900549    ...     -13.927111  26.918575   \n",
       "15304   6.644935  92.276726   43.845759    ...     -59.970008  25.734719   \n",
       "36818 -39.206386  30.328132  102.824000    ...     -28.889918  39.269487   \n",
       "36819 -28.165732  51.263880   99.415833    ...     -19.683871  60.146068   \n",
       "36820 -36.272075  71.195968  135.058671    ...     -16.148706  29.429498   \n",
       "\n",
       "               Y6         Z6         X7          Y7         Z7         X8  \\\n",
       "15303   96.473093   7.943128   2.713287  128.110776  12.249793  57.712082   \n",
       "15304   96.820081   6.548833  50.689160   98.715470   2.405460  26.914463   \n",
       "36818  154.228493 -10.139208  76.943159   14.632435 -55.229815   4.498580   \n",
       "36819  155.526863 -15.275475  39.462353  154.439961  -9.055373   7.065014   \n",
       "36820  101.610880 -10.343133  60.453276  155.034340 -13.923854  77.871421   \n",
       "\n",
       "               Y8         Z8  \n",
       "15303  152.482286   7.015468  \n",
       "15304  148.439662  14.037669  \n",
       "36818   26.380901   2.384311  \n",
       "36819   90.432980 -12.430796  \n",
       "36820   16.185150 -54.063723  \n",
       "\n",
       "[5 rows x 29 columns]"
      ]
     },
     "execution_count": 95,
     "metadata": {},
     "output_type": "execute_result"
    }
   ],
   "source": [
    "dat4.head()"
   ]
  },
  {
   "cell_type": "code",
   "execution_count": 96,
   "metadata": {
    "collapsed": true
   },
   "outputs": [],
   "source": [
    "X4=np.array(dat4.iloc[:,2:])"
   ]
  },
  {
   "cell_type": "code",
   "execution_count": 97,
   "metadata": {},
   "outputs": [],
   "source": [
    "y_km4=km.predict(X4)"
   ]
  },
  {
   "cell_type": "code",
   "execution_count": 98,
   "metadata": {},
   "outputs": [
    {
     "data": {
      "text/plain": [
       "array([2, 0, 1, 4, 3, 2, 4, 4, 4, 4, 4, 4, 4, 4, 4, 4, 4, 4, 4, 4, 4, 4, 4,\n",
       "       4, 4, 4, 4, 4, 4, 4, 4], dtype=int32)"
      ]
     },
     "execution_count": 98,
     "metadata": {},
     "output_type": "execute_result"
    }
   ],
   "source": [
    "np.unique(y_km4)\n",
    "y_km4"
   ]
  },
  {
   "cell_type": "code",
   "execution_count": 99,
   "metadata": {},
   "outputs": [
    {
     "name": "stdout",
     "output_type": "stream",
     "text": [
      "0.838709677419\n"
     ]
    }
   ],
   "source": [
    "accuracy = (y_km4 == 4).sum()/len(y_km4)\n",
    "print(accuracy)"
   ]
  },
  {
   "cell_type": "markdown",
   "metadata": {},
   "source": [
    "The above should be a single valued array, since I selected samples from one class only."
   ]
  },
  {
   "cell_type": "markdown",
   "metadata": {},
   "source": [
    "\n",
    "### 2.1. Elbow method\n",
    "\n",
    "Let's use the elbow method for the best number of cluster. Adapted from https://www.packtpub.com/big-data-and-business-intelligence/python-machine-learning-second-edition"
   ]
  },
  {
   "cell_type": "code",
   "execution_count": 109,
   "metadata": {
    "collapsed": true
   },
   "outputs": [],
   "source": [
    "distorsions1 = []\n",
    "distorsions2 = []\n",
    "for i in range(1,11):\n",
    "    km1 =KMeans(n_clusters=i,\n",
    "              init='k-means++',\n",
    "              n_init=10,\n",
    "              max_iter=300,\n",
    "              random_state=42)\n",
    "    km2 =KMeans(n_clusters=i,\n",
    "              init='k-means++',\n",
    "              n_init=10,\n",
    "              max_iter=300,\n",
    "              random_state=0)\n",
    "    km1.fit(X_train1)\n",
    "    distorsions1.append(km1.inertia_)\n",
    "    km2.fit(X_train2)\n",
    "    distorsions2.append(km2.inertia_)"
   ]
  },
  {
   "cell_type": "code",
   "execution_count": 110,
   "metadata": {},
   "outputs": [
    {
     "data": {
      "image/png": "[encoded data removed]",
      "text/plain": [
       "<matplotlib.figure.Figure at 0x128c84668>"
      ]
     },
     "metadata": {},
     "output_type": "display_data"
    }
   ],
   "source": [
    "plt.plot(range(1,11), distorsions1, marker='o', label = 'data1')\n",
    "plt.plot(range(1,11), distorsions2, marker = 'v', label = 'data2')\n",
    "plt.xlabel('n_cluster')\n",
    "plt.ylabel('distortion')\n",
    "plt.legend(loc='upper right', shadow=True)\n",
    "pil.savefig('elbow_kmeans.pdf', bbox_inches='tight')\n",
    "plt.show()"
   ]
  },
  {
   "cell_type": "markdown",
   "metadata": {},
   "source": [
    "It looks like that there is no optimal number of clusters.. Maybe the KMeans algorithm is not good for this purpose.\n",
    "\n",
    "### 2.1. CH score:\n",
    "\n",
    "Let's try have a look at the CH score."
   ]
  },
  {
   "cell_type": "code",
   "execution_count": 111,
   "metadata": {},
   "outputs": [],
   "source": [
    "from sklearn.metrics import calinski_harabaz_score\n",
    "\n",
    "scores = []\n",
    "for i in range(2,11):\n",
    "    km =KMeans(n_clusters=i,\n",
    "              init='k-means++',\n",
    "              n_init=10,\n",
    "              max_iter=300,\n",
    "              random_state=42)\n",
    "    y_km = km.fit_predict(X_train1)\n",
    "    \n",
    "    score = calinski_harabaz_score(X_train1, y_km)\n",
    "    scores.append(score)"
   ]
  },
  {
   "cell_type": "code",
   "execution_count": 112,
   "metadata": {},
   "outputs": [
    {
     "data": {
      "image/png": "[encoded data removed]",
      "text/plain": [
       "<matplotlib.figure.Figure at 0x1252d2f60>"
      ]
     },
     "metadata": {},
     "output_type": "display_data"
    }
   ],
   "source": [
    "plt.plot(range(2,11), scores, marker='o')\n",
    "plt.xlabel('n_cluster')\n",
    "plt.ylabel('CH score')\n",
    "pil.savefig('chscore_kmeans.pdf', bbox_inches='tight')\n",
    "plt.show()"
   ]
  },
  {
   "cell_type": "markdown",
   "metadata": {},
   "source": [
    "Even this one does not tell me anything in particular."
   ]
  },
  {
   "cell_type": "markdown",
   "metadata": {},
   "source": [
    "## 3. Agglomerative Clustering\n",
    "\n",
    "This is the bottom-up approach to hierarchical clustering"
   ]
  },
  {
   "cell_type": "code",
   "execution_count": 113,
   "metadata": {
    "collapsed": true
   },
   "outputs": [],
   "source": [
    "from sklearn.cluster import AgglomerativeClustering\n",
    "ac = AgglomerativeClustering(n_clusters=5,\n",
    "                            affinity = 'euclidean',\n",
    "                            linkage='complete')"
   ]
  },
  {
   "cell_type": "code",
   "execution_count": 116,
   "metadata": {},
   "outputs": [
    {
     "name": "stdout",
     "output_type": "stream",
     "text": [
      "Agglomerative Clustering execution time:\n",
      "--- 13.376217126846313 seconds ---\n"
     ]
    }
   ],
   "source": [
    "start_time = time.time()\n",
    "y_ac = ac.fit_predict(X_train1)\n",
    "end_time = time.time()\n",
    "print('Agglomerative Clustering execution time:')\n",
    "print(\"--- %s seconds ---\" % (end_time - start_time))"
   ]
  },
  {
   "cell_type": "code",
   "execution_count": 117,
   "metadata": {},
   "outputs": [
    {
     "data": {
      "text/plain": [
       "array([0, 1, 2, 3, 4])"
      ]
     },
     "execution_count": 117,
     "metadata": {},
     "output_type": "execute_result"
    }
   ],
   "source": [
    "np.unique(y_ac)"
   ]
  },
  {
   "cell_type": "code",
   "execution_count": 118,
   "metadata": {
    "collapsed": true
   },
   "outputs": [],
   "source": [
    "### here I want to check how well the Agglomerative clustering is doing\n",
    "from sklearn.metrics import confusion_matrix\n",
    "\n",
    "confmat = confusion_matrix(y_true = y_train, y_pred = y_ac)"
   ]
  },
  {
   "cell_type": "code",
   "execution_count": 119,
   "metadata": {},
   "outputs": [
    {
     "name": "stdout",
     "output_type": "stream",
     "text": [
      "[[   0    0    0    0    0    0]\n",
      " [  16    7    0    0    1    0]\n",
      " [5638 1160    6   17  395    0]\n",
      " [  31    7    0    0    2    0]\n",
      " [ 889  204    0    0   77    0]\n",
      " [5354 1022    0    0  455    0]]\n"
     ]
    }
   ],
   "source": [
    "print(confmat)"
   ]
  },
  {
   "cell_type": "markdown",
   "metadata": {},
   "source": [
    "### 3.1. CH-score"
   ]
  },
  {
   "cell_type": "code",
   "execution_count": 120,
   "metadata": {
    "collapsed": true
   },
   "outputs": [],
   "source": [
    "from sklearn.metrics import calinski_harabaz_score\n",
    "\n",
    "scores1 = []\n",
    "scores2 = []\n",
    "for i in range(2,11):\n",
    "    ac1 =AgglomerativeClustering(n_clusters=i,\n",
    "                                affinity='euclidean',\n",
    "                                linkage='complete')\n",
    "    ac2 =AgglomerativeClustering(n_clusters=i,\n",
    "                                affinity='euclidean',\n",
    "                                linkage='complete')\n",
    "    \n",
    "    \n",
    "    y_ac1 = ac1.fit_predict(X_train1_std)\n",
    "    y_ac2 = ac2.fit_predict(X_train2_std)\n",
    "    \n",
    "    score1 = calinski_harabaz_score(X_train1_std, y_ac1)\n",
    "    scores1.append(score1)\n",
    "    score2 = calinski_harabaz_score(X_train2_std, y_ac2)\n",
    "    scores2.append(score2)"
   ]
  },
  {
   "cell_type": "code",
   "execution_count": 121,
   "metadata": {},
   "outputs": [
    {
     "data": {
      "image/png": "[encoded data removed]",
      "text/plain": [
       "<matplotlib.figure.Figure at 0x11c78fef0>"
      ]
     },
     "metadata": {},
     "output_type": "display_data"
    }
   ],
   "source": [
    "plt.plot(range(2,11), scores1, marker='o', label='data1')\n",
    "plt.plot(range(2,11), scores2, marker='v', label='data2')\n",
    "plt.xlabel('n_cluster')\n",
    "plt.ylabel('CH score')\n",
    "plt.legend(loc='upper left',shadow=True)\n",
    "pil.savefig('chscore_agglom.pdf', bbox_inches='tight')\n",
    "plt.show()"
   ]
  },
  {
   "cell_type": "markdown",
   "metadata": {},
   "source": [
    "So it looks that the agglomerative clustering cannot successfully detect that the optimal number of clusters. The confusion matrix is also not optimal."
   ]
  },
  {
   "cell_type": "markdown",
   "metadata": {},
   "source": [
    "## 4. DBSCAN \n",
    "\n",
    "I am facing issues in DBSCAN. It cannot divide the dataset in different clusters."
   ]
  },
  {
   "cell_type": "code",
   "execution_count": 122,
   "metadata": {
    "collapsed": true
   },
   "outputs": [],
   "source": [
    "from sklearn.cluster import DBSCAN\n",
    "db = DBSCAN(eps=0.0000001,\n",
    "           min_samples=20,\n",
    "           metric='euclidean')"
   ]
  },
  {
   "cell_type": "code",
   "execution_count": 123,
   "metadata": {
    "collapsed": true
   },
   "outputs": [],
   "source": [
    "y_db = db.fit_predict(X_train)"
   ]
  },
  {
   "cell_type": "code",
   "execution_count": 124,
   "metadata": {},
   "outputs": [
    {
     "data": {
      "text/plain": [
       "array([-1])"
      ]
     },
     "execution_count": 124,
     "metadata": {},
     "output_type": "execute_result"
    }
   ],
   "source": [
    "np.unique(y_db)"
   ]
  },
  {
   "cell_type": "code",
   "execution_count": null,
   "metadata": {
    "collapsed": true
   },
   "outputs": [],
   "source": [
    "# I tried several things but I had no look.\n",
    "for i in range(1,1001):\n",
    "    db = DBSCAN(eps=0.00001*i,\n",
    "           min_samples=10,\n",
    "           metric='euclidean')\n",
    "    y_db = db.fit_predict(X_train)\n",
    "    n_clusters = len(np.unique(y_db))\n",
    "    if (n_clusters>1):\n",
    "        print('eps:',0.001*i, 'n_clusters', n_clusters)"
   ]
  },
  {
   "cell_type": "markdown",
   "metadata": {},
   "source": [
    "## 5. HDBSCAN"
   ]
  },
  {
   "cell_type": "code",
   "execution_count": 126,
   "metadata": {},
   "outputs": [
    {
     "name": "stdout",
     "output_type": "stream",
     "text": [
      "HDBSCAN execution time:\n",
      "--- 9.595990896224976 seconds ---\n"
     ]
    }
   ],
   "source": [
    "import hdbscan\n",
    "\n",
    "hdb = hdbscan.HDBSCAN(min_cluster_size=20)\n",
    "\n",
    "start_time = time.time()\n",
    "cluster_labels = hdb.fit_predict(X_train_std)\n",
    "end_time = time.time()\n",
    "print('HDBSCAN execution time:')\n",
    "print(\"--- %s seconds ---\" % (end_time - start_time))\n"
   ]
  },
  {
   "cell_type": "code",
   "execution_count": 69,
   "metadata": {},
   "outputs": [
    {
     "data": {
      "text/plain": [
       "array([-1,  0,  1,  2,  3,  4,  5,  6,  7])"
      ]
     },
     "execution_count": 69,
     "metadata": {},
     "output_type": "execute_result"
    }
   ],
   "source": [
    "np.unique(cluster_labels)"
   ]
  },
  {
   "cell_type": "code",
   "execution_count": 136,
   "metadata": {},
   "outputs": [],
   "source": [
    "# too many clusters.. Let's try to tune the hyperparameters.\n",
    "n_clusters = []\n",
    "\n",
    "for i in range(30,40):\n",
    "    hdb = hdbscan.HDBSCAN(min_cluster_size=i)\n",
    "    cluster_labels = hdb.fit_predict(X_train1_std)\n",
    "    n_cluster = len(np.unique(cluster_labels))\n",
    "    n_clusters.append(n_cluster)"
   ]
  },
  {
   "cell_type": "markdown",
   "metadata": {},
   "source": [
    "### 5.1. Tuning the hyper-parameter"
   ]
  },
  {
   "cell_type": "code",
   "execution_count": 140,
   "metadata": {},
   "outputs": [
    {
     "data": {
      "image/png": "[encoded data removed]",
      "text/plain": [
       "<matplotlib.figure.Figure at 0x10f0d98d0>"
      ]
     },
     "metadata": {},
     "output_type": "display_data"
    }
   ],
   "source": [
    "plt.plot(range(30,40), n_clusters, marker='o', label = 'data1')\n",
    "#plt.plot(range(5,25), n_clusters2, marker='v', label = 'data2')\n",
    "plt.xlabel('min_cluster_size')\n",
    "plt.ylabel('n_cluster')\n",
    "#plt.xlim(5,25)\n",
    "#plt.legend(loc = 'upper left', shadow = True)\n",
    "pil.savefig('hdbscan1.pdf', bbox_inches='tight')\n",
    "plt.show()"
   ]
  },
  {
   "cell_type": "markdown",
   "metadata": {},
   "source": [
    "### 5.2. CH-index vs min_cluster_size"
   ]
  },
  {
   "cell_type": "code",
   "execution_count": 138,
   "metadata": {
    "collapsed": true
   },
   "outputs": [],
   "source": [
    "from sklearn.metrics import calinski_harabaz_score\n",
    "\n",
    "scores = []\n",
    "for i in range(30,40):\n",
    "    hdb = hdbscan.HDBSCAN(min_cluster_size=i)\n",
    "    y_hdb = hdb.fit_predict(X_train_std)\n",
    "    score = calinski_harabaz_score(X_train_std, y_hdb)\n",
    "    scores.append(score)"
   ]
  },
  {
   "cell_type": "code",
   "execution_count": 139,
   "metadata": {},
   "outputs": [
    {
     "data": {
      "image/png": "[encoded data removed]",
      "text/plain": [
       "<matplotlib.figure.Figure at 0x11cb8b6a0>"
      ]
     },
     "metadata": {},
     "output_type": "display_data"
    }
   ],
   "source": [
    "plt.plot(range(30,40), scores, marker='o')\n",
    "plt.xlabel('min_cluster_size')\n",
    "plt.ylabel('CH score')\n",
    "pil.savefig('chscore_hdbscan.pdf', bbox_inches='tight')\n",
    "plt.show()"
   ]
  },
  {
   "cell_type": "markdown",
   "metadata": {},
   "source": [
    "This does not help me unfortuntely"
   ]
  },
  {
   "cell_type": "code",
   "execution_count": null,
   "metadata": {
    "collapsed": true
   },
   "outputs": [],
   "source": []
  }
 ],
 "metadata": {
  "kernelspec": {
   "display_name": "Python 3",
   "language": "python",
   "name": "python3"
  },
  "language_info": {
   "codemirror_mode": {
    "name": "ipython",
    "version": 3
   },
   "file_extension": ".py",
   "mimetype": "text/x-python",
   "name": "python",
   "nbconvert_exporter": "python",
   "pygments_lexer": "ipython3",
   "version": "3.6.2"
  }
 },
 "nbformat": 4,
 "nbformat_minor": 2
}
