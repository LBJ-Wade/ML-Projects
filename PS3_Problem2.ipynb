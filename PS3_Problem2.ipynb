{
 "cells": [
  {
   "cell_type": "markdown",
   "metadata": {},
   "source": [
    "# Problem 2\n",
    "\n",
    "My two algorithms use a lot of numpy arrays so to refresh the memeory about arrays in python, please read\n",
    "\n",
    "https://docs.scipy.org/doc/numpy-dev/user/quickstart.html\n",
    "\n",
    "Remember:\n",
    "shape = (rows, columns)\n",
    "\n",
    "## 1. Loading the dataset - Boston -\n",
    "\n",
    "For this problem we are going to use the Boston dataset. Due to the deadline to hand this project my I do not perform a thourogh data analysis but I rather focus on the algorithms."
   ]
  },
  {
   "cell_type": "code",
   "execution_count": 1,
   "metadata": {
    "collapsed": true
   },
   "outputs": [],
   "source": [
    "# load libraries\n",
    "import numpy as np\n",
    "import pandas as pd"
   ]
  },
  {
   "cell_type": "code",
   "execution_count": 2,
   "metadata": {},
   "outputs": [
    {
     "data": {
      "text/html": [
       "<div>\n",
       "<style>\n",
       "    .dataframe thead tr:only-child th {\n",
       "        text-align: right;\n",
       "    }\n",
       "\n",
       "    .dataframe thead th {\n",
       "        text-align: left;\n",
       "    }\n",
       "\n",
       "    .dataframe tbody tr th {\n",
       "        vertical-align: top;\n",
       "    }\n",
       "</style>\n",
       "<table border=\"1\" class=\"dataframe\">\n",
       "  <thead>\n",
       "    <tr style=\"text-align: right;\">\n",
       "      <th></th>\n",
       "      <th>crim</th>\n",
       "      <th>zn</th>\n",
       "      <th>indus</th>\n",
       "      <th>chas</th>\n",
       "      <th>nox</th>\n",
       "      <th>rm</th>\n",
       "      <th>age</th>\n",
       "      <th>dis</th>\n",
       "      <th>rad</th>\n",
       "      <th>tax</th>\n",
       "      <th>ptratio</th>\n",
       "      <th>black</th>\n",
       "      <th>lstat</th>\n",
       "      <th>medv</th>\n",
       "    </tr>\n",
       "  </thead>\n",
       "  <tbody>\n",
       "    <tr>\n",
       "      <th>0</th>\n",
       "      <td>0.00632</td>\n",
       "      <td>18.0</td>\n",
       "      <td>2.31</td>\n",
       "      <td>0</td>\n",
       "      <td>0.538</td>\n",
       "      <td>6.575</td>\n",
       "      <td>65.2</td>\n",
       "      <td>4.0900</td>\n",
       "      <td>1</td>\n",
       "      <td>296</td>\n",
       "      <td>15.3</td>\n",
       "      <td>396.90</td>\n",
       "      <td>4.98</td>\n",
       "      <td>24.0</td>\n",
       "    </tr>\n",
       "    <tr>\n",
       "      <th>1</th>\n",
       "      <td>0.02731</td>\n",
       "      <td>0.0</td>\n",
       "      <td>7.07</td>\n",
       "      <td>0</td>\n",
       "      <td>0.469</td>\n",
       "      <td>6.421</td>\n",
       "      <td>78.9</td>\n",
       "      <td>4.9671</td>\n",
       "      <td>2</td>\n",
       "      <td>242</td>\n",
       "      <td>17.8</td>\n",
       "      <td>396.90</td>\n",
       "      <td>9.14</td>\n",
       "      <td>21.6</td>\n",
       "    </tr>\n",
       "    <tr>\n",
       "      <th>2</th>\n",
       "      <td>0.02729</td>\n",
       "      <td>0.0</td>\n",
       "      <td>7.07</td>\n",
       "      <td>0</td>\n",
       "      <td>0.469</td>\n",
       "      <td>7.185</td>\n",
       "      <td>61.1</td>\n",
       "      <td>4.9671</td>\n",
       "      <td>2</td>\n",
       "      <td>242</td>\n",
       "      <td>17.8</td>\n",
       "      <td>392.83</td>\n",
       "      <td>4.03</td>\n",
       "      <td>34.7</td>\n",
       "    </tr>\n",
       "    <tr>\n",
       "      <th>3</th>\n",
       "      <td>0.03237</td>\n",
       "      <td>0.0</td>\n",
       "      <td>2.18</td>\n",
       "      <td>0</td>\n",
       "      <td>0.458</td>\n",
       "      <td>6.998</td>\n",
       "      <td>45.8</td>\n",
       "      <td>6.0622</td>\n",
       "      <td>3</td>\n",
       "      <td>222</td>\n",
       "      <td>18.7</td>\n",
       "      <td>394.63</td>\n",
       "      <td>2.94</td>\n",
       "      <td>33.4</td>\n",
       "    </tr>\n",
       "    <tr>\n",
       "      <th>4</th>\n",
       "      <td>0.06905</td>\n",
       "      <td>0.0</td>\n",
       "      <td>2.18</td>\n",
       "      <td>0</td>\n",
       "      <td>0.458</td>\n",
       "      <td>7.147</td>\n",
       "      <td>54.2</td>\n",
       "      <td>6.0622</td>\n",
       "      <td>3</td>\n",
       "      <td>222</td>\n",
       "      <td>18.7</td>\n",
       "      <td>396.90</td>\n",
       "      <td>5.33</td>\n",
       "      <td>36.2</td>\n",
       "    </tr>\n",
       "  </tbody>\n",
       "</table>\n",
       "</div>"
      ],
      "text/plain": [
       "      crim    zn  indus  chas    nox     rm   age     dis  rad  tax  ptratio  \\\n",
       "0  0.00632  18.0   2.31     0  0.538  6.575  65.2  4.0900    1  296     15.3   \n",
       "1  0.02731   0.0   7.07     0  0.469  6.421  78.9  4.9671    2  242     17.8   \n",
       "2  0.02729   0.0   7.07     0  0.469  7.185  61.1  4.9671    2  242     17.8   \n",
       "3  0.03237   0.0   2.18     0  0.458  6.998  45.8  6.0622    3  222     18.7   \n",
       "4  0.06905   0.0   2.18     0  0.458  7.147  54.2  6.0622    3  222     18.7   \n",
       "\n",
       "    black  lstat  medv  \n",
       "0  396.90   4.98  24.0  \n",
       "1  396.90   9.14  21.6  \n",
       "2  392.83   4.03  34.7  \n",
       "3  394.63   2.94  33.4  \n",
       "4  396.90   5.33  36.2  "
      ]
     },
     "execution_count": 2,
     "metadata": {},
     "output_type": "execute_result"
    }
   ],
   "source": [
    "dat = pd.read_csv('Boston.csv').dropna()\n",
    "dat.head()"
   ]
  },
  {
   "cell_type": "code",
   "execution_count": 3,
   "metadata": {
    "collapsed": true
   },
   "outputs": [],
   "source": [
    "# Extracting the data and the target.\n",
    "X = np.array(dat.iloc[:,:-1].values)\n",
    "#X = np.array(dat.iloc[:,[5,12]].values)\n",
    "y = np.array(dat.iloc[:,13].values).reshape(-1,1)"
   ]
  },
  {
   "cell_type": "code",
   "execution_count": 4,
   "metadata": {},
   "outputs": [
    {
     "name": "stdout",
     "output_type": "stream",
     "text": [
      "X dim: (506, 13)\n",
      "y dim: (506, 1)\n"
     ]
    }
   ],
   "source": [
    "print('X dim:', X.shape)\n",
    "print('y dim:', y.shape)"
   ]
  },
  {
   "cell_type": "code",
   "execution_count": 5,
   "metadata": {
    "collapsed": true
   },
   "outputs": [],
   "source": [
    "#np.asscalar(np.dot(X.T,y))"
   ]
  },
  {
   "cell_type": "code",
   "execution_count": 6,
   "metadata": {
    "collapsed": true
   },
   "outputs": [],
   "source": [
    "from sklearn.model_selection import train_test_split"
   ]
  },
  {
   "cell_type": "code",
   "execution_count": 7,
   "metadata": {
    "collapsed": true
   },
   "outputs": [],
   "source": [
    "# Dividing the data set in 50% of train and 50% of test\n",
    "X_train, X_test, y_train, y_test = train_test_split(X,y,test_size=0.5, random_state=0)"
   ]
  },
  {
   "cell_type": "code",
   "execution_count": 8,
   "metadata": {
    "collapsed": true
   },
   "outputs": [],
   "source": [
    "# normalizing the dataset is always good practice\n",
    "from sklearn.preprocessing import StandardScaler\n",
    "sc_x = StandardScaler()\n",
    "sc_y = StandardScaler()"
   ]
  },
  {
   "cell_type": "code",
   "execution_count": 9,
   "metadata": {
    "collapsed": true
   },
   "outputs": [],
   "source": [
    "X_train_sc=sc_x.fit_transform(X_train)\n",
    "y_train_sc=sc_y.fit_transform(y_train.reshape(-1,1))\n",
    "\n",
    "X_test_sc = sc_x.transform(X_test)\n",
    "y_test_sc = sc_y.transform(y_test.reshape(-1,1))"
   ]
  },
  {
   "cell_type": "markdown",
   "metadata": {},
   "source": [
    "### 1.1. Exploratory Data Analysis\n",
    "\n",
    "Here I just want to visualize the data. Just to know what to expect from a blind regression."
   ]
  },
  {
   "cell_type": "code",
   "execution_count": 64,
   "metadata": {},
   "outputs": [
    {
     "data": {
      "image/png": "[encoded data removed]",
      "text/plain": [
       "<matplotlib.figure.Figure at 0x11da22828>"
      ]
     },
     "metadata": {},
     "output_type": "display_data"
    }
   ],
   "source": [
    "import matplotlib.pyplot as plt\n",
    "import seaborn as sns\n",
    "\n",
    "sns.set(style='whitegrid', context='notebook')\n",
    "cols = [ 'rm', 'age', 'dis', 'tax','ptratio','lstat','black','medv']\n",
    "cols = [ 'rm','ptratio','lstat','medv']\n",
    "sns.pairplot(dat[cols], size=2.5)\n",
    "plt.show()"
   ]
  },
  {
   "cell_type": "markdown",
   "metadata": {},
   "source": [
    "### 1.2. Constructing the weight matrix\n",
    "\n",
    "This caused some problems so I decided to set the weight matrix to the identity. Actually after a few mods to the algorithms I chose, this part is not necessary anymore."
   ]
  },
  {
   "cell_type": "code",
   "execution_count": 11,
   "metadata": {},
   "outputs": [
    {
     "data": {
      "text/plain": [
       "LinearRegression(copy_X=True, fit_intercept=True, n_jobs=1, normalize=False)"
      ]
     },
     "execution_count": 11,
     "metadata": {},
     "output_type": "execute_result"
    }
   ],
   "source": [
    "from sklearn.linear_model import LinearRegression\n",
    "slr=LinearRegression()\n",
    "slr.fit(X_train_sc, y_train_sc)"
   ]
  },
  {
   "cell_type": "code",
   "execution_count": 12,
   "metadata": {
    "collapsed": true
   },
   "outputs": [],
   "source": [
    "res = slr.predict(X_train_sc) - y_train_sc"
   ]
  },
  {
   "cell_type": "code",
   "execution_count": 13,
   "metadata": {
    "collapsed": true
   },
   "outputs": [],
   "source": [
    "# creating the weight matrix and normalizing it\n",
    "W = np.diagflat(1/res**2)\n",
    "Wmax=np.amax(W)"
   ]
  },
  {
   "cell_type": "code",
   "execution_count": 14,
   "metadata": {
    "collapsed": true
   },
   "outputs": [],
   "source": [
    "W = W/ Wmax"
   ]
  },
  {
   "cell_type": "code",
   "execution_count": 15,
   "metadata": {
    "collapsed": true
   },
   "outputs": [],
   "source": [
    "# I want to use the identity for now.\n",
    "W =np.identity(X_train_sc.shape[0])"
   ]
  },
  {
   "cell_type": "code",
   "execution_count": 16,
   "metadata": {},
   "outputs": [
    {
     "data": {
      "text/plain": [
       "array([[-0.1160751 ,  0.1438898 ,  0.05387264,  0.08823602, -0.19912322,\n",
       "         0.27192659, -0.00881289, -0.32867001,  0.22535303, -0.17490753,\n",
       "        -0.2542458 ,  0.05282481, -0.4393473 ]])"
      ]
     },
     "execution_count": 16,
     "metadata": {},
     "output_type": "execute_result"
    }
   ],
   "source": [
    "# Checking the coefficient of the regression\n",
    "slr.coef_"
   ]
  },
  {
   "cell_type": "code",
   "execution_count": 17,
   "metadata": {},
   "outputs": [
    {
     "data": {
      "text/plain": [
       "array([  3.03766202e-15])"
      ]
     },
     "execution_count": 17,
     "metadata": {},
     "output_type": "execute_result"
    }
   ],
   "source": [
    "slr.intercept_"
   ]
  },
  {
   "cell_type": "markdown",
   "metadata": {},
   "source": [
    "## 2. The optimization algorithms\n",
    "\n",
    "Since we need to perform a grid search later (for the parallelized CV) I follow this very useful article\n",
    "\n",
    "http://danielhnyk.cz/creating-your-own-estimator-scikit-learn/\n",
    "\n",
    "to create my 2 regressors with the sklearn interface\n",
    "\n",
    "### 2.1. Sub-gradient Descent"
   ]
  },
  {
   "cell_type": "code",
   "execution_count": 18,
   "metadata": {
    "collapsed": true
   },
   "outputs": [],
   "source": [
    "# Implementing the sub-gradient descent algorithm according to the sklearn interface.\n",
    "from sklearn.base import BaseEstimator, RegressorMixin\n",
    "from sklearn.linear_model import LinearRegression # not used now\n",
    "from sklearn.metrics import r2_score\n",
    "import numpy as np\n",
    "import time\n",
    "\n",
    "class WEN_sGD(BaseEstimator, RegressorMixin):\n",
    "    \n",
    "    def __init__(self, lambda_1=0.01, lambda_2=0.01, eta=0.0001, n_iter=150, feedback=False):\n",
    "        self.lambda_1 = lambda_1\n",
    "        self.lambda_2 = lambda_2\n",
    "        self.eta      = eta \n",
    "        self.n_iter   = n_iter\n",
    "        self.feedback = feedback\n",
    "        \n",
    "    def fit(self, X, y=None):\n",
    "        \n",
    "        # Generate the weight matrix\n",
    "        W = self.generate_weights(X,y)\n",
    "        \n",
    "        # Initializing the betas\n",
    "        self.beta_ = np.zeros(1+X.shape[1]).reshape(-1,1)\n",
    "        self.cost_ = []\n",
    "        \n",
    "        time0 = time.clock()\n",
    "        \n",
    "        # Defining the X0 vector\n",
    "        X0 = np.ones(X.shape[0]).reshape(-1,1)\n",
    "\n",
    "        #print('X0:', X0)\n",
    "            \n",
    "        # Defining a few useful terms\n",
    "        ID     = np.identity(X.shape[1])\n",
    "        Xt     = np.transpose(X)\n",
    "        yt     = np.transpose(y)\n",
    "        \n",
    "        WX     = W    @ X\n",
    "        XtW    = X.T  @ W\n",
    "        XtWX   = XtW  @ X\n",
    "        WX0    = W    @ X0\n",
    "        X0tW   = X0.T @ W\n",
    "        XtWX0  = XtW  @ X0\n",
    "        X0tWX  = X0tW @ X\n",
    "        X0tWX0 = np.asscalar(X0.T @ WX0)\n",
    "        ytWX0  = np.asscalar(y.T  @ WX0)\n",
    "        ytW    = y.T  @ W\n",
    "        \n",
    "        if(self.feedback):\n",
    "            print('Time to compute the linalg elements:', time.clock() - time0) \n",
    "            print('')\n",
    "            print('--- Optimization: ---')\n",
    "        \n",
    "        time1 = time.clock()\n",
    "        \n",
    "        for i_iter in range(self.n_iter):\n",
    "            \n",
    "            # Defining quantities depending on beta\n",
    "            b     = self.beta_[1:]\n",
    "            b0    = self.beta_[0]\n",
    "            bt    = b.T            \n",
    "            Xb    = X   @ b\n",
    "            WXb   = W   @ Xb\n",
    "            ytWXb = np.asscalar(y.T @ WXb)\n",
    "            \n",
    "            obj = (np.asscalar(bt @ (XtWX @ b)) + self.lambda_2*np.asscalar(bt @ b) + 2*b0 * np.asscalar(bt @ XtWX0)\n",
    "                   + b0**2 * (X0tWX0 + self.lambda_2))\n",
    "            \n",
    "            obj = obj/(1.+self.lambda_2)\n",
    "            \n",
    "            obj = obj - 2*ytWXb - 2*b0*ytWX0\n",
    "            \n",
    "            # computing the lasso penalization\n",
    "            lasso = 0\n",
    "            # Apparently we do not regularize the intercept.\n",
    "            for i in range(1,1+X.shape[1]):\n",
    "                lasso += abs(self.beta_[i])\n",
    "                \n",
    "            lasso = lasso*self.lambda_1\n",
    "            \n",
    "            # adding the rest\n",
    "            obj += lasso\n",
    "            \n",
    "            # store the cost function\n",
    "            if (self.feedback):\n",
    "                print('iter:', i_iter, 'obj:', obj)\n",
    "                \n",
    "            self.cost_.append(obj)\n",
    "            \n",
    "            # Now update the regressioin coefficients\n",
    "            # L =/ 0\n",
    "            for L in range(X.shape[1]):\n",
    "\n",
    "                # doing some operations\n",
    "                XL     = X[:,L].reshape(-1,1)\n",
    "                XLt    = XL.T\n",
    "                XLtWXb = np.asscalar(XL.T @ WXb)\n",
    "                XLtWX0 = np.asscalar(XL.T @ WX0)\n",
    "                ytWXL  = np.asscalar(ytW @ XL)\n",
    "                \n",
    "                # useful outputs\n",
    "                #print('XL     shape:', XL.shape)\n",
    "                #print('XLt    shape:', XLt.shape)\n",
    "                #print('XLtWXb shape:', XLtWXb.shape)\n",
    "                #print('ytWX0  shape:', ytWX0.shape)\n",
    "                #print('ytWXL  shape:', ytWXL.shape)\n",
    "                \n",
    "                grad = 2*((XLtWXb+self.lambda_2*self.beta_[L+1] + XLtWX0*b0)/(1+self.lambda_2)- ytWXL)\n",
    "                \n",
    "                # subgradient part\n",
    "                if (self.beta_[1+L] >  0):\n",
    "                    grad = grad+self.lambda_1\n",
    "                elif(self.beta_[1+L] < 0):\n",
    "                    grad = grad - self.lambda_1\n",
    "                \n",
    "                self.beta_[1+L] += self.eta*(-grad)\n",
    "                \n",
    "            # Updating the intercept\n",
    "            grad0 = 2*((np.asscalar(X0tWX @ b) + X0tWX0 *b0+self.lambda_2*b0)/(1+self.lambda_2)- ytWX0)\n",
    "            \n",
    "            if (self.beta_[0]>0):\n",
    "                grad0+=self.lambda_1\n",
    "            elif(self.beta_[0]<0):\n",
    "                grad0+=(-self.lambda_1)\n",
    "            \n",
    "            self.beta_[0]+=grad0*(-self.eta)\n",
    "            \n",
    "        if(self.feedback): \n",
    "            print('Time for optimization:', time.clock()-time1)\n",
    "        \n",
    "        return self\n",
    "\n",
    "    def predict(self, X):\n",
    "        try:\n",
    "            getattr(self, \"beta_\")\n",
    "        except AttributeError:\n",
    "            raise RuntimeError(\"You must train classifer before predicting data!\")\n",
    "\n",
    "        return np.dot(X, self.beta_[1:])+self.beta_[0]     \n",
    "    \n",
    "    def score(self, X, y=None):\n",
    "        return r2_score(y,self.predict(X))\n",
    "    \n",
    "    def generate_weights(self,X,y=None):\n",
    "        # Here I could put a OLS to generate the weights\n",
    "        # but now I prefer to work with the identity \n",
    "        return np.identity(X.shape[0])\n",
    "        \n",
    "            "
   ]
  },
  {
   "cell_type": "markdown",
   "metadata": {},
   "source": [
    "### 2.2. Proximal Gradient Descent\n",
    "\n",
    "We can easily modify the sub-gradient descent to obtain the proximal gradient descent."
   ]
  },
  {
   "cell_type": "code",
   "execution_count": 19,
   "metadata": {
    "collapsed": true
   },
   "outputs": [],
   "source": [
    "# Implementing the sub-gradient descent algorithm according to the sklearn interface.\n",
    "from sklearn.base import BaseEstimator, RegressorMixin\n",
    "from sklearn.linear_model import LinearRegression # not used now\n",
    "from sklearn.metrics import r2_score\n",
    "import numpy as np\n",
    "import time\n",
    "\n",
    "class WEN_pGD(BaseEstimator,RegressorMixin):\n",
    "    \n",
    "    def __init__(self, lambda_1=0.1, lambda_2=0.001, eta=0.0001, n_iter=150, feedback=False):\n",
    "        self.lambda_1 = lambda_1\n",
    "        self.lambda_2 = lambda_2\n",
    "        self.eta      = eta \n",
    "        self.n_iter   = n_iter\n",
    "        self.feedback = feedback\n",
    "        \n",
    "    def fit(self, X, y=None):\n",
    "        # Generating the weights\n",
    "        W = self.generate_weights(X,y)\n",
    "        \n",
    "        # Initializing th eregression coefficients\n",
    "        self.beta_ = np.zeros(1+X.shape[1]).reshape(-1,1)\n",
    "        \n",
    "        # Initializing the cost/epoch list\n",
    "        self.cost_ = []\n",
    "        \n",
    "        time0 = time.clock()\n",
    "        \n",
    "        # Defining the X0 vector\n",
    "        X0 = np.ones(X.shape[0]).reshape(-1,1)\n",
    "            \n",
    "        # Defining a few useful terms (once only so the thing should run faster)\n",
    "        ID     = np.identity(X.shape[1])\n",
    "        Xt     = np.transpose(X)\n",
    "        yt     = np.transpose(y)\n",
    "        WX     = W    @ X\n",
    "        XtW    = X.T  @ W\n",
    "        XtWX   = XtW  @ X\n",
    "        WX0    = W    @ X0\n",
    "        X0tW   = X0.T @ W\n",
    "        XtWX0  = XtW  @ X0\n",
    "        X0tWX  = X0tW @ X\n",
    "        X0tWX0 = np.asscalar(X0.T @ WX0)\n",
    "        ytWX0  = np.asscalar(y.T  @ WX0)\n",
    "        ytW    = y.T  @ W\n",
    "        \n",
    "        if(self.feedback):\n",
    "            print('Time to compute the linalg elements:', time.clock() - time0)\n",
    "            print('')\n",
    "            print('--- Optimization: ---')\n",
    "            \n",
    "        time1 = time.clock()\n",
    "        \n",
    "        for i_iter in range(self.n_iter):\n",
    "            \n",
    "            # Defining quantities depending on beta\n",
    "            b     = self.beta_[1:]\n",
    "            b0    = self.beta_[0]\n",
    "            bt    = b.T            \n",
    "            Xb    = X   @ b\n",
    "            WXb   = W   @ Xb\n",
    "            ytWXb = np.asscalar(y.T @ WXb)\n",
    "            \n",
    "            obj = (np.asscalar(bt @ (XtWX @ b)) + self.lambda_2*np.asscalar(bt @ b) + 2*b0 * np.asscalar(bt @ XtWX0)\n",
    "                   + b0**2 * (X0tWX0 + self.lambda_2))\n",
    "            \n",
    "            obj = obj/(1.+self.lambda_2)\n",
    "            \n",
    "            obj = obj - 2*ytWXb - 2*b0*ytWX0\n",
    "            \n",
    "            # computing the lasso penalization\n",
    "            lasso = 0\n",
    "            \n",
    "            # Apparently we do not regularize the intercept.\n",
    "            for i in range(1,1+X.shape[1]):\n",
    "                lasso += abs(self.beta_[i])\n",
    "                \n",
    "            lasso = lasso*self.lambda_1\n",
    "            \n",
    "            # adding the rest\n",
    "            obj += lasso\n",
    "            \n",
    "            # store the cost function\n",
    "            self.cost_.append(obj)\n",
    "            \n",
    "            # print the cost function\n",
    "            if(self.feedback):\n",
    "                print('iter:', i_iter, 'obj:', obj)\n",
    "            \n",
    "            # Now update the regressioin coefficients using the proximal GD\n",
    "            # L =/ 0\n",
    "            \n",
    "            for L in range(X.shape[1]):\n",
    "\n",
    "                # doing some operations\n",
    "                XL     = X[:,L].reshape(-1,1)\n",
    "                XLt    = XL.T\n",
    "                XLtWXb = np.asscalar(XL.T @ WXb)\n",
    "                XLtWX0 = np.asscalar(XL.T @ WX0)\n",
    "                ytWXL  = np.asscalar(ytW @ XL)\n",
    "                \n",
    "                grad = 2*((XLtWXb+self.lambda_2*self.beta_[L+1] + XLtWX0*b0)/(1+self.lambda_2)- ytWXL)\n",
    "                \n",
    "                # arguments of the soft threshold function\n",
    "                x   = self.beta_[1+L] - self.eta * grad\n",
    "                lam = self.eta*self.lambda_1\n",
    "                \n",
    "                self.beta_[1+L] = self.soft_threshold(x, lam)\n",
    "                \n",
    "            # Updating the intercept\n",
    "            grad0 = 2*((np.asscalar(X0tWX @ b) + X0tWX0 *b0+self.lambda_2*b0)/(1+self.lambda_2)- ytWX0)\n",
    "            \n",
    "            x   = self.beta_[0] - self.eta*grad0\n",
    "            lam = self.eta*self.lambda_1\n",
    "            \n",
    "            self.beta_[0] = self.soft_threshold(x,lam)\n",
    "            \n",
    "            \n",
    "        #print('Time for optimization:', time.clock()-time1)\n",
    "        \n",
    "        return self\n",
    "\n",
    "    def predict(self, X):\n",
    "        try:\n",
    "            getattr(self, \"beta_\")\n",
    "        except AttributeError:\n",
    "            raise RuntimeError(\"You must train classifer before predicting data!\")\n",
    "\n",
    "        return np.dot(X, self.beta_[1:])+self.beta_[0]  \n",
    "            \n",
    "    def soft_threshold(self, x, lam):\n",
    "        if (x > lam):\n",
    "            return x-lam\n",
    "        elif(x < -lam):\n",
    "            return x+lam\n",
    "        else:\n",
    "            return 0\n",
    "    \n",
    "    \n",
    "    def score(self, X, y=None):\n",
    "        return r2_score(y,self.predict(X))\n",
    "    \n",
    "    def generate_weights(self,X,y=None):\n",
    "        # Here I could put an OLS to generate the weights\n",
    "        # but now I prefer to work with the identity \n",
    "        return np.identity(X.shape[0])\n",
    "        "
   ]
  },
  {
   "cell_type": "markdown",
   "metadata": {},
   "source": [
    "## 3. Testing the algorithms\n",
    "\n",
    "### 3.1. OLS limit of the two algorithms\n",
    "Below I try the two algorithms above using $\\lambda_1 = \\lambda_2 = 0$. This is exaclty the same as the OLS and the two algorithms should be the same in this case."
   ]
  },
  {
   "cell_type": "code",
   "execution_count": 20,
   "metadata": {
    "collapsed": true
   },
   "outputs": [],
   "source": [
    "wen1 = WEN_sGD(lambda_1=0,lambda_2=0,eta=0.0001,n_iter=200,feedback=False)\n",
    "wen2 = WEN_pGD(lambda_1=0,lambda_2=0,eta=0.0001,n_iter=200,feedback=False)"
   ]
  },
  {
   "cell_type": "code",
   "execution_count": 21,
   "metadata": {},
   "outputs": [
    {
     "data": {
      "text/plain": [
       "WEN_sGD(eta=0.0001, feedback=False, lambda_1=0, lambda_2=0, n_iter=200)"
      ]
     },
     "execution_count": 21,
     "metadata": {},
     "output_type": "execute_result"
    }
   ],
   "source": [
    "wen1.fit(X_train_sc, y_train_sc)"
   ]
  },
  {
   "cell_type": "code",
   "execution_count": 22,
   "metadata": {},
   "outputs": [
    {
     "data": {
      "text/plain": [
       "WEN_pGD(eta=0.0001, feedback=False, lambda_1=0, lambda_2=0, n_iter=200)"
      ]
     },
     "execution_count": 22,
     "metadata": {},
     "output_type": "execute_result"
    }
   ],
   "source": [
    "wen2.fit(X_train_sc, y_train_sc)"
   ]
  },
  {
   "cell_type": "code",
   "execution_count": 23,
   "metadata": {},
   "outputs": [
    {
     "name": "stdout",
     "output_type": "stream",
     "text": [
      "beta1: [[  2.97180600e-15]\n",
      " [ -1.10445498e-01]\n",
      " [  1.20662849e-01]\n",
      " [  2.12788821e-03]\n",
      " [  9.69195524e-02]\n",
      " [ -1.40674761e-01]\n",
      " [  2.99595671e-01]\n",
      " [ -2.40304100e-02]\n",
      " [ -2.91557346e-01]\n",
      " [  1.24675751e-01]\n",
      " [ -6.75159337e-02]\n",
      " [ -2.42036442e-01]\n",
      " [  5.52335834e-02]\n",
      " [ -4.22336141e-01]]\n",
      "beta2: [[  2.97180600e-15]\n",
      " [ -1.10445498e-01]\n",
      " [  1.20662849e-01]\n",
      " [  2.12788821e-03]\n",
      " [  9.69195524e-02]\n",
      " [ -1.40674761e-01]\n",
      " [  2.99595671e-01]\n",
      " [ -2.40304100e-02]\n",
      " [ -2.91557346e-01]\n",
      " [  1.24675751e-01]\n",
      " [ -6.75159337e-02]\n",
      " [ -2.42036442e-01]\n",
      " [  5.52335834e-02]\n",
      " [ -4.22336141e-01]]\n"
     ]
    }
   ],
   "source": [
    "print('beta1:',wen1.beta_)\n",
    "print('beta2:',wen2.beta_)"
   ]
  },
  {
   "cell_type": "code",
   "execution_count": 24,
   "metadata": {},
   "outputs": [
    {
     "data": {
      "image/png": "[encoded data removed]",
      "text/plain": [
       "<matplotlib.figure.Figure at 0x11d0d4ba8>"
      ]
     },
     "metadata": {},
     "output_type": "display_data"
    }
   ],
   "source": [
    "sns.reset_orig()\n",
    "plt.plot(range(1, wen1.n_iter+1), wen1.cost_, linewidth =2, linestyle= '-.')\n",
    "plt.plot(range(1, wen2.n_iter+1), wen2.cost_, linewidth =2, linestyle = '-')\n",
    "plt.xlim(1,200)\n",
    "plt.ylabel('cost function')\n",
    "plt.xlabel('iterations')\n",
    "plt.show()"
   ]
  },
  {
   "cell_type": "markdown",
   "metadata": {},
   "source": [
    "### 3.2. Lasso Limit\n",
    "\n",
    "Here we set only $\\lambda_2 = 0$ and compare the result with the Lasso model from sklearn\n",
    "\n",
    "#### 3.1. Choosing the best $\\lambda_1$"
   ]
  },
  {
   "cell_type": "code",
   "execution_count": 25,
   "metadata": {},
   "outputs": [
    {
     "name": "stdout",
     "output_type": "stream",
     "text": [
      "lambda: 0.0001 r2: 0.666291334493\n",
      "lambda: 0.001 r2: 0.666377542875\n",
      "lambda: 0.01 r2: 0.659947175286\n",
      "lambda: 0.1 r2: 0.622993714681\n",
      "lambda: 1 r2: -0.0140588213417\n",
      "lambda: 10 r2: -0.0140588213417\n",
      "lambda: 100 r2: -0.0140588213417\n",
      "lambda: 1000 r2: -0.0140588213417\n"
     ]
    }
   ],
   "source": [
    "from sklearn.linear_model import Lasso\n",
    "from sklearn.metrics import r2_score\n",
    "\n",
    "param_range = [0.0001, 0.001, 0.01, 0.1, 1, 10, 100, 1000]\n",
    "for i in range(len(param_range)):\n",
    "    lasso = Lasso(alpha=param_range[i], random_state=1)\n",
    "    lasso.fit(X_train_sc,y_train_sc)\n",
    "    r2=r2_score(y_test_sc, lasso.predict(X_test_sc))\n",
    "    print('lambda:', lasso.alpha, 'r2:', r2)\n",
    "    "
   ]
  },
  {
   "cell_type": "code",
   "execution_count": 26,
   "metadata": {},
   "outputs": [
    {
     "name": "stdout",
     "output_type": "stream",
     "text": [
      "intercept: [  2.95589992e-15]\n",
      "coeff    : [-0.08973424  0.11036125 -0.          0.08959662 -0.1403563   0.28552206\n",
      " -0.         -0.26630032  0.07817229 -0.03537397 -0.23918791  0.04199728\n",
      " -0.43952393]\n"
     ]
    }
   ],
   "source": [
    "lasso = Lasso(alpha=0.01, random_state = 1)\n",
    "lasso.fit(X_train_sc, y_train_sc)\n",
    "print('intercept:', lasso.intercept_)\n",
    "print('coeff    :', lasso.coef_)"
   ]
  },
  {
   "cell_type": "code",
   "execution_count": 27,
   "metadata": {
    "collapsed": true
   },
   "outputs": [],
   "source": [
    "# now trying the wen in this limit.\n",
    "wen1 = WEN_sGD(lambda_1=0.01,lambda_2=0,eta=0.0001,n_iter=200)\n",
    "wen2 = WEN_pGD(lambda_1=0.01,lambda_2=0,eta=0.0001,n_iter=200)"
   ]
  },
  {
   "cell_type": "code",
   "execution_count": 28,
   "metadata": {},
   "outputs": [
    {
     "data": {
      "text/plain": [
       "WEN_sGD(eta=0.0001, feedback=False, lambda_1=0.01, lambda_2=0, n_iter=200)"
      ]
     },
     "execution_count": 28,
     "metadata": {},
     "output_type": "execute_result"
    }
   ],
   "source": [
    "wen1.fit(X_train_sc, y_train_sc)"
   ]
  },
  {
   "cell_type": "code",
   "execution_count": 29,
   "metadata": {},
   "outputs": [
    {
     "data": {
      "text/plain": [
       "WEN_pGD(eta=0.0001, feedback=False, lambda_1=0.01, lambda_2=0, n_iter=200)"
      ]
     },
     "execution_count": 29,
     "metadata": {},
     "output_type": "execute_result"
    }
   ],
   "source": [
    "wen2.fit(X_train_sc, y_train_sc)"
   ]
  },
  {
   "cell_type": "code",
   "execution_count": 30,
   "metadata": {},
   "outputs": [
    {
     "name": "stdout",
     "output_type": "stream",
     "text": [
      "beta1: [[ -5.12995041e-07]\n",
      " [ -1.10401119e-01]\n",
      " [  1.20622272e-01]\n",
      " [  2.11502151e-03]\n",
      " [  9.69093694e-02]\n",
      " [ -1.40612735e-01]\n",
      " [  2.99606373e-01]\n",
      " [ -2.39886675e-02]\n",
      " [ -2.91444207e-01]\n",
      " [  1.24537158e-01]\n",
      " [ -6.74236012e-02]\n",
      " [ -2.42019998e-01]\n",
      " [  5.52133408e-02]\n",
      " [ -4.22345800e-01]]\n",
      "beta2: [[ 0.        ]\n",
      " [-0.11040101]\n",
      " [ 0.12062204]\n",
      " [ 0.00211348]\n",
      " [ 0.09690944]\n",
      " [-0.14061232]\n",
      " [ 0.29960632]\n",
      " [-0.02398846]\n",
      " [-0.29144422]\n",
      " [ 0.12453685]\n",
      " [-0.06742289]\n",
      " [-0.24201986]\n",
      " [ 0.05521327]\n",
      " [-0.42234568]]\n"
     ]
    }
   ],
   "source": [
    "print('beta1:',wen1.beta_)\n",
    "print('beta2:',wen2.beta_)"
   ]
  },
  {
   "cell_type": "code",
   "execution_count": 31,
   "metadata": {},
   "outputs": [
    {
     "data": {
      "image/png": "[encoded data removed]",
      "text/plain": [
       "<matplotlib.figure.Figure at 0x11d130b38>"
      ]
     },
     "metadata": {},
     "output_type": "display_data"
    }
   ],
   "source": [
    "sns.reset_orig()\n",
    "plt.plot(range(1, wen1.n_iter+1), wen1.cost_, linewidth =2, linestyle= '-.')\n",
    "plt.plot(range(1, wen2.n_iter+1), wen2.cost_, linewidth =2, linestyle = '-')\n",
    "plt.xlim(1,200)\n",
    "plt.ylabel('cost function')\n",
    "plt.xlabel('iterations')\n",
    "plt.show()"
   ]
  },
  {
   "cell_type": "markdown",
   "metadata": {},
   "source": [
    "### 3.3. Elastic Net"
   ]
  },
  {
   "cell_type": "code",
   "execution_count": 32,
   "metadata": {
    "collapsed": true
   },
   "outputs": [],
   "source": [
    "from sklearn.linear_model import ElasticNet\n",
    "EN = ElasticNet(alpha=0.01, l1_ratio = 0.5)"
   ]
  },
  {
   "cell_type": "code",
   "execution_count": 33,
   "metadata": {},
   "outputs": [
    {
     "data": {
      "text/plain": [
       "ElasticNet(alpha=0.01, copy_X=True, fit_intercept=True, l1_ratio=0.5,\n",
       "      max_iter=1000, normalize=False, positive=False, precompute=False,\n",
       "      random_state=None, selection='cyclic', tol=0.0001, warm_start=False)"
      ]
     },
     "execution_count": 33,
     "metadata": {},
     "output_type": "execute_result"
    }
   ],
   "source": [
    "EN.fit(X_train_sc,y_train_sc)"
   ]
  },
  {
   "cell_type": "code",
   "execution_count": 34,
   "metadata": {},
   "outputs": [
    {
     "data": {
      "text/plain": [
       "array([-0.10253187,  0.123007  ,  0.        ,  0.09082842, -0.15883193,\n",
       "        0.2798557 , -0.001579  , -0.2934616 ,  0.13323569, -0.08036839,\n",
       "       -0.2426794 ,  0.047238  , -0.43449478])"
      ]
     },
     "execution_count": 34,
     "metadata": {},
     "output_type": "execute_result"
    }
   ],
   "source": [
    "EN.coef_"
   ]
  },
  {
   "cell_type": "code",
   "execution_count": 35,
   "metadata": {},
   "outputs": [
    {
     "data": {
      "text/plain": [
       "array([  3.00867581e-15])"
      ]
     },
     "execution_count": 35,
     "metadata": {},
     "output_type": "execute_result"
    }
   ],
   "source": [
    "EN.intercept_"
   ]
  },
  {
   "cell_type": "code",
   "execution_count": 36,
   "metadata": {
    "collapsed": true
   },
   "outputs": [],
   "source": [
    "wen1 = WEN_sGD(lambda_1=1.0,lambda_2=0.001,eta=0.0001,n_iter=200)\n",
    "wen2 = WEN_pGD(lambda_1=1.0,lambda_2=0.0001,eta=0.0001,n_iter=200)"
   ]
  },
  {
   "cell_type": "code",
   "execution_count": 37,
   "metadata": {},
   "outputs": [
    {
     "data": {
      "text/plain": [
       "0.0001"
      ]
     },
     "execution_count": 37,
     "metadata": {},
     "output_type": "execute_result"
    }
   ],
   "source": [
    "wen2.lambda_2"
   ]
  },
  {
   "cell_type": "code",
   "execution_count": 38,
   "metadata": {},
   "outputs": [
    {
     "data": {
      "text/plain": [
       "WEN_sGD(eta=0.0001, feedback=False, lambda_1=1.0, lambda_2=0.001, n_iter=200)"
      ]
     },
     "execution_count": 38,
     "metadata": {},
     "output_type": "execute_result"
    }
   ],
   "source": [
    "wen1.fit(X_train_sc, y_train_sc)"
   ]
  },
  {
   "cell_type": "code",
   "execution_count": 39,
   "metadata": {},
   "outputs": [
    {
     "data": {
      "text/plain": [
       "WEN_pGD(eta=0.0001, feedback=False, lambda_1=1.0, lambda_2=0.0001, n_iter=200)"
      ]
     },
     "execution_count": 39,
     "metadata": {},
     "output_type": "execute_result"
    }
   ],
   "source": [
    "wen2.fit(X_train_sc, y_train_sc)"
   ]
  },
  {
   "cell_type": "code",
   "execution_count": 40,
   "metadata": {},
   "outputs": [
    {
     "name": "stdout",
     "output_type": "stream",
     "text": [
      "beta1: [[ -5.12981971e-05]\n",
      " [ -1.06105367e-01]\n",
      " [  1.16627051e-01]\n",
      " [  1.50563813e-04]\n",
      " [  9.60278856e-02]\n",
      " [ -1.34407646e-01]\n",
      " [  3.00951749e-01]\n",
      " [ -1.98162330e-02]\n",
      " [ -2.80565174e-01]\n",
      " [  1.10916069e-01]\n",
      " [ -5.81448607e-02]\n",
      " [ -2.40561291e-01]\n",
      " [  5.32454995e-02]\n",
      " [ -4.23622308e-01]]\n",
      "beta2: [[  0.00000000e+00]\n",
      " [ -1.06000926e-01]\n",
      " [  1.16522679e-01]\n",
      " [  1.13856510e-05]\n",
      " [  9.59424741e-02]\n",
      " [ -1.34310910e-01]\n",
      " [  3.00638673e-01]\n",
      " [ -1.97652844e-02]\n",
      " [ -2.80374289e-01]\n",
      " [  1.10841471e-01]\n",
      " [ -5.80681758e-02]\n",
      " [ -2.40342777e-01]\n",
      " [  5.31849514e-02]\n",
      " [ -4.23257174e-01]]\n"
     ]
    }
   ],
   "source": [
    "print('beta1:',wen1.beta_)\n",
    "print('beta2:',wen2.beta_)"
   ]
  },
  {
   "cell_type": "code",
   "execution_count": 41,
   "metadata": {},
   "outputs": [
    {
     "data": {
      "image/png": "[encoded data removed]",
      "text/plain": [
       "<matplotlib.figure.Figure at 0x11d127860>"
      ]
     },
     "metadata": {},
     "output_type": "display_data"
    }
   ],
   "source": [
    "sns.reset_orig()\n",
    "plt.plot(range(1, wen1.n_iter+1), wen1.cost_, linewidth =2, linestyle= '-.')\n",
    "plt.plot(range(1, wen2.n_iter+1), wen2.cost_, linewidth =2, linestyle = '-')\n",
    "plt.xlim(1,200)\n",
    "plt.ylabel('cost function')\n",
    "plt.xlabel('iterations')\n",
    "plt.show()"
   ]
  },
  {
   "cell_type": "code",
   "execution_count": 42,
   "metadata": {},
   "outputs": [
    {
     "name": "stdout",
     "output_type": "stream",
     "text": [
      "--- SUB-GRADIENT ---\n",
      "lam1, lam2, r2\n",
      "0.0001 0.0001 0.661391743475 14\n",
      "0.0001 0.001 0.66123428952 14\n",
      "0.0001 0.01 0.659583729342 14\n",
      "0.0001 0.1 0.635475515866 14\n",
      "0.0001 1 -0.361342753114 14\n",
      "0.0001 10 -62.7305612848 14\n",
      "0.0001 100 -965.943428749 14\n",
      "0.0001 1000 -1594.98070047 14\n",
      "0.001 0.0001 0.661391301827 14\n",
      "0.001 0.001 0.661233851282 14\n",
      "0.001 0.01 0.659583317534 14\n",
      "0.001 0.1 0.63547542407 14\n",
      "0.001 1 -0.361333348989 14\n",
      "0.001 10 -62.7300851684 14\n",
      "0.001 100 -965.935519309 14\n",
      "0.001 1000 -1594.96772137 14\n",
      "0.01 0.0001 0.661386997913 14\n",
      "0.01 0.001 0.661229461071 14\n",
      "0.01 0.01 0.659579191563 14\n",
      "0.01 0.1 0.635474497291 14\n",
      "0.01 1 -0.361239324583 14\n",
      "0.01 10 -62.7253241318 14\n",
      "0.01 100 -965.85642674 14\n",
      "0.01 1000 -1594.83793334 14\n",
      "0.1 0.0001 0.661343055737 14\n",
      "0.1 0.001 0.661185981705 14\n",
      "0.1 0.01 0.659537142505 14\n",
      "0.1 0.1 0.63546434774 14\n",
      "0.1 1 -0.360300765688 14\n",
      "0.1 10 -62.6777265442 14\n",
      "0.1 100 -965.065684318 14\n",
      "0.1 1000 -1593.54034905 14\n",
      "1 0.0001 0.660890066063 14\n",
      "1 0.001 0.660723842587 14\n",
      "1 0.01 0.659103073993 14\n",
      "1 0.1 0.635264621205 14\n",
      "1 1 -0.351094067177 14\n",
      "1 10 -62.2030284439 14\n",
      "1 100 -957.176587299 14\n",
      "1 1000 -1580.59411289 14\n",
      "10 0.0001 0.649380843456 14\n",
      "10 0.001 0.649262486651 14\n",
      "10 0.01 0.648051195592 14\n",
      "10 0.1 0.627978132448 14\n",
      "10 1 -0.278926092696 14\n",
      "10 10 -57.5871561993 14\n",
      "10 100 -880.11833636 14\n",
      "10 1000 -1454.09242457 14\n",
      "100 0.0001 0.602268112848 14\n",
      "100 0.001 0.606341606952 14\n",
      "100 0.01 0.608662655802 14\n",
      "100 0.1 0.626695660367 14\n",
      "100 1 0.391795103945 14\n",
      "100 10 -23.4711133015 14\n",
      "100 100 -302.477384934 14\n",
      "100 1000 -485.916907363 14\n",
      "1000 0.0001 -0.271403745591 14\n",
      "1000 0.001 -0.271179162439 14\n",
      "1000 0.01 -0.268935117479 14\n",
      "1000 0.1 -0.350400887433 14\n",
      "1000 1 0.182543203777 14\n",
      "1000 10 0.200597160026 14\n",
      "1000 100 0.288714178463 14\n",
      "1000 1000 0.11182900682 14\n",
      "\n",
      "--- PROXIMAL GRADIENT ---\n",
      "lam1, lam2, r2\n",
      "0.0001 0.0001 0.661391743916 13\n",
      "0.0001 0.001 0.661234289963 13\n",
      "0.0001 0.01 0.659583729831 13\n",
      "0.0001 0.1 0.635475515065 13\n",
      "0.0001 1 -0.361342755895 13\n",
      "0.0001 10 -62.7305612562 13\n",
      "0.0001 100 -965.943425599 13\n",
      "0.0001 1000 -1594.98069365 13\n",
      "0.001 0.0001 0.661391306232 13\n",
      "0.001 0.001 0.661233855709 13\n",
      "0.001 0.01 0.659583322425 13\n",
      "0.001 0.1 0.635475416058 13\n",
      "0.001 1 -0.361333376798 13\n",
      "0.001 10 -62.7300848818 13\n",
      "0.001 100 -965.935487809 13\n",
      "0.001 1000 -1594.96765312 13\n",
      "0.01 0.0001 0.661387039123 13\n",
      "0.01 0.001 0.661229505292 13\n",
      "0.01 0.01 0.659579240428 13\n",
      "0.01 0.1 0.635474417128 13\n",
      "0.01 1 -0.361239602737 13\n",
      "0.01 10 -62.7253212659 13\n",
      "0.01 100 -965.85611175 13\n",
      "0.01 1000 -1594.83725085 13\n",
      "0.1 0.0001 0.661343462859 13\n",
      "0.1 0.001 0.661186391025 13\n",
      "0.1 0.01 0.659537626305 13\n",
      "0.1 0.1 0.635463541233 13\n",
      "0.1 1 -0.360303553482 13\n",
      "0.1 10 -62.6776979182 13\n",
      "0.1 100 -965.062535751 13\n",
      "0.1 1000 -1593.53352703 13\n",
      "1 0.0001 0.660881346409 13\n",
      "1 0.001 0.660726033853 13\n",
      "1 0.01 0.659097531827 13\n",
      "1 0.1 0.635243961548 12\n",
      "1 1 -0.351122584205 13\n",
      "1 10 -62.2027454945 13\n",
      "1 100 -957.145234951 13\n",
      "1 1000 -1580.52617646 13\n",
      "10 0.0001 0.649323519419 9\n",
      "10 0.001 0.649201237255 9\n",
      "10 0.01 0.64790977023 9\n",
      "10 0.1 0.627879988037 9\n",
      "10 1 -0.278167398744 9\n",
      "10 10 -57.5846731427 13\n",
      "10 100 -879.818145982 13\n",
      "10 1000 -1453.44143599 13\n",
      "100 0.0001 0.600923961904 3\n",
      "100 0.001 0.601093533889 3\n",
      "100 0.01 0.602751583142 3\n",
      "100 0.1 0.615569193167 3\n",
      "100 1 0.371964033216 3\n",
      "100 10 -23.5775087401 8\n",
      "100 100 -300.758976026 11\n",
      "100 1000 -482.254993056 12\n",
      "1000 0.0001 -0.0140588213417 0\n",
      "1000 0.001 -0.0140588213417 0\n",
      "1000 0.01 -0.0140588213417 0\n",
      "1000 0.1 -0.0140588213417 0\n",
      "1000 1 -0.0140588213417 0\n",
      "1000 10 -0.0140588213417 0\n",
      "1000 100 -0.0140588213417 0\n",
      "1000 1000 -0.0140588213417 0\n"
     ]
    }
   ],
   "source": [
    "# Choosing the regularization parameters - A very inefficient Grid Search approach -\n",
    "from sklearn.metrics import r2_score\n",
    "\n",
    "param_range = [0.0001, 0.001, 0.01, 0.1, 1, 10, 100, 1000]\n",
    "print('--- SUB-GRADIENT ---')\n",
    "print('lam1, lam2, r2')\n",
    "for i in range(len(param_range)):\n",
    "    for j in range(len(param_range)):\n",
    "        lambda_1 = param_range[i]\n",
    "        lambda_2 = param_range[j]\n",
    "        wen1 = WEN_sGD(lambda_1=lambda_1,lambda_2=lambda_2,eta=0.0001,n_iter=200)\n",
    "        wen1.fit(X_train_sc, y_train_sc)\n",
    "        nz = np.count_nonzero(wen1.beta_)\n",
    "        r2=r2_score(y_test_sc,wen1.predict(X_test_sc))\n",
    "        print(lambda_1, lambda_2, r2, nz)\n",
    "print('')\n",
    "print('--- PROXIMAL GRADIENT ---')\n",
    "print('lam1, lam2, r2')\n",
    "for i in range(len(param_range)):\n",
    "    for j in range(len(param_range)):\n",
    "        lambda_1 = param_range[i]\n",
    "        lambda_2 = param_range[j]\n",
    "        wen2 = WEN_pGD(lambda_1=lambda_1,lambda_2=lambda_2,eta=0.0001,n_iter=200)\n",
    "        wen2.fit(X_train_sc, y_train_sc)\n",
    "        nz = np.count_nonzero(wen2.beta_)\n",
    "        r2=r2_score(y_test_sc,wen2.predict(X_test_sc))\n",
    "        print(lambda_1, lambda_2, r2,nz)\n",
    "        \n"
   ]
  },
  {
   "cell_type": "code",
   "execution_count": 43,
   "metadata": {
    "collapsed": true
   },
   "outputs": [],
   "source": [
    "wen1 = WEN_sGD(lambda_1=10,lambda_2=0.0001,eta=0.0001,n_iter=200)\n",
    "t0 = time.time()\n",
    "wen1.fit(X_train_sc, y_train_sc)\n",
    "t1 = time.time()\n",
    "wen2 = WEN_pGD(lambda_1=10,lambda_2=0.0001,eta=0.0001,n_iter=200)\n",
    "t2 = time.time()\n",
    "wen2.fit(X_train_sc,y_train_sc)\n",
    "t3 = time.time()"
   ]
  },
  {
   "cell_type": "code",
   "execution_count": 44,
   "metadata": {},
   "outputs": [
    {
     "name": "stdout",
     "output_type": "stream",
     "text": [
      "Sub-Gradient  time: 0.10317492485046387\n",
      "Prox-Gradient time: 0.07031607627868652\n"
     ]
    }
   ],
   "source": [
    "print('Sub-Gradient  time:', t1-t0)\n",
    "print('Prox-Gradient time:', t3-t2)"
   ]
  },
  {
   "cell_type": "code",
   "execution_count": 45,
   "metadata": {},
   "outputs": [
    {
     "name": "stdout",
     "output_type": "stream",
     "text": [
      "beta_1: [[ -5.12993735e-04]\n",
      " [ -6.68617814e-02]\n",
      " [  7.98692528e-02]\n",
      " [  2.75483953e-04]\n",
      " [  8.64993701e-02]\n",
      " [ -6.91105832e-02]\n",
      " [  3.11271200e-01]\n",
      " [ -7.75680659e-04]\n",
      " [ -1.85395826e-01]\n",
      " [  6.83843183e-05]\n",
      " [ -1.40775340e-03]\n",
      " [ -2.22422478e-01]\n",
      " [  3.48662655e-02]\n",
      " [ -4.27610340e-01]]\n",
      "beta_2: [[ 0.        ]\n",
      " [-0.06674397]\n",
      " [ 0.07988163]\n",
      " [ 0.        ]\n",
      " [ 0.08650359]\n",
      " [-0.0693732 ]\n",
      " [ 0.31132372]\n",
      " [ 0.        ]\n",
      " [-0.18484299]\n",
      " [ 0.        ]\n",
      " [ 0.        ]\n",
      " [-0.22254783]\n",
      " [ 0.03487354]\n",
      " [-0.42790488]]\n"
     ]
    }
   ],
   "source": [
    "print('beta_1:',wen1.beta_)\n",
    "print('beta_2:',wen2.beta_)"
   ]
  },
  {
   "cell_type": "markdown",
   "metadata": {},
   "source": [
    "The coefficients look similar to the EN from sklearn and are similar. The proximal GD looks faster although the measurement of time I used include the other things that the computer is doing. However I think I'm choosing the proximal gradient descent method. We have more sparsity of the parameters $\\to$ simpler model."
   ]
  },
  {
   "cell_type": "markdown",
   "metadata": {
    "collapsed": true
   },
   "source": [
    "## 4. Model Validation & Parallelization\n",
    "\n",
    "### 4.1. Cross Validation\n",
    "\n",
    "We now perform a parallelized cross validation to infer the best parameters $\\lambda_1$ and $\\lambda_2$"
   ]
  },
  {
   "cell_type": "code",
   "execution_count": 100,
   "metadata": {
    "collapsed": true
   },
   "outputs": [],
   "source": [
    "# trying with this. I have to define the pipeline, otherwise I'm always using the scaled set.\n",
    "from sklearn.model_selection import GridSearchCV\n",
    "from sklearn.pipeline import Pipeline\n",
    "from sklearn.preprocessing import StandardScaler\n",
    "\n",
    "param_range1 = [10**(-2+0.04*(i+1)) for i in range(100)]\n",
    "param_range2 = [10**(-3+0.05*(i+1)) for i in range(100)]\n",
    "\n",
    "pipe_wen = Pipeline([('scl', StandardScaler()),\n",
    "                    ('clf', WEN_pGD())])\n",
    "\n",
    "param_grid = [{'clf__lambda_1':param_range1, 'clf__lambda_2':param_range2}]\n",
    "gs = GridSearchCV(estimator=pipe_wen, param_grid=param_grid, scoring = 'neg_mean_absolute_error', cv=10, n_jobs=-1)"
   ]
  },
  {
   "cell_type": "code",
   "execution_count": 101,
   "metadata": {
    "collapsed": true
   },
   "outputs": [],
   "source": [
    "t0 =time.time()\n",
    "gs.fit(X_train,y_train)\n",
    "t1=time.time()"
   ]
  },
  {
   "cell_type": "code",
   "execution_count": 102,
   "metadata": {
    "scrolled": true
   },
   "outputs": [
    {
     "name": "stdout",
     "output_type": "stream",
     "text": [
      "time for the CV grid search: 2875.921070098877 seconds\n"
     ]
    }
   ],
   "source": [
    "print('time for the CV grid search:', t1-t0, 'seconds')"
   ]
  },
  {
   "cell_type": "code",
   "execution_count": 103,
   "metadata": {},
   "outputs": [
    {
     "data": {
      "text/plain": [
       "{'clf__lambda_1': 30.19951720402016, 'clf__lambda_2': 0.001122018454301963}"
      ]
     },
     "execution_count": 103,
     "metadata": {},
     "output_type": "execute_result"
    }
   ],
   "source": [
    "gs.best_params_"
   ]
  },
  {
   "cell_type": "code",
   "execution_count": 104,
   "metadata": {},
   "outputs": [
    {
     "data": {
      "text/plain": [
       "-3.2684609793730073"
      ]
     },
     "execution_count": 104,
     "metadata": {},
     "output_type": "execute_result"
    }
   ],
   "source": [
    "gs.best_score_"
   ]
  },
  {
   "cell_type": "code",
   "execution_count": 105,
   "metadata": {},
   "outputs": [
    {
     "data": {
      "text/plain": [
       "<bound method Pipeline.get_params of Pipeline(memory=None,\n",
       "     steps=[('scl', StandardScaler(copy=True, with_mean=True, with_std=True)), ('clf', WEN_pGD(eta=0.0001, feedback=False, lambda_1=30.19951720402016,\n",
       "    lambda_2=0.001122018454301963, n_iter=150))])>"
      ]
     },
     "execution_count": 105,
     "metadata": {},
     "output_type": "execute_result"
    }
   ],
   "source": [
    "gs.best_estimator_.get_params"
   ]
  },
  {
   "cell_type": "markdown",
   "metadata": {},
   "source": [
    "### 4.2. Bootstrapping (or BAGGING?)\n",
    "\n",
    "Here I implement a (hopefully parallelized) bagging regressor based on the proximal-GD WEN defined above.\n",
    "\n",
    "I read the following\n",
    "\n",
    "https://machinelearningmastery.com/calculate-bootstrap-confidence-intervals-machine-learning-results-python/\n",
    "\n",
    "but it was not that helpful.\n"
   ]
  },
  {
   "cell_type": "code",
   "execution_count": 65,
   "metadata": {
    "collapsed": true
   },
   "outputs": [],
   "source": [
    "from sklearn.ensemble import BaggingRegressor"
   ]
  },
  {
   "cell_type": "code",
   "execution_count": 67,
   "metadata": {
    "collapsed": true
   },
   "outputs": [],
   "source": [
    "bagg = BaggingRegressor(base_estimator=WEN_pGD(),n_estimators=10,bootstrap=True, max_samples=0.5, max_features=0.5, n_jobs=-1)"
   ]
  },
  {
   "cell_type": "code",
   "execution_count": 69,
   "metadata": {},
   "outputs": [
    {
     "data": {
      "text/plain": [
       "<bound method BaseEstimator.get_params of BaggingRegressor(base_estimator=WEN_pGD(eta=0.0001, feedback=False, lambda_1=0.1, lambda_2=0.001, n_iter=150),\n",
       "         bootstrap=True, bootstrap_features=False, max_features=0.5,\n",
       "         max_samples=0.5, n_estimators=10, n_jobs=-1, oob_score=False,\n",
       "         random_state=None, verbose=0, warm_start=False)>"
      ]
     },
     "execution_count": 69,
     "metadata": {},
     "output_type": "execute_result"
    }
   ],
   "source": [
    "bagg.get_params"
   ]
  },
  {
   "cell_type": "code",
   "execution_count": 72,
   "metadata": {},
   "outputs": [
    {
     "data": {
      "text/plain": [
       "BaggingRegressor(base_estimator=WEN_pGD(eta=0.0001, feedback=False, lambda_1=0.1, lambda_2=0.001, n_iter=150),\n",
       "         bootstrap=True, bootstrap_features=False, max_features=0.5,\n",
       "         max_samples=0.5, n_estimators=10, n_jobs=-1, oob_score=False,\n",
       "         random_state=None, verbose=0, warm_start=False)"
      ]
     },
     "execution_count": 72,
     "metadata": {},
     "output_type": "execute_result"
    }
   ],
   "source": [
    "bagg.fit(X_train_sc,np.ravel(y_train_sc))"
   ]
  },
  {
   "cell_type": "code",
   "execution_count": 79,
   "metadata": {},
   "outputs": [
    {
     "data": {
      "text/plain": [
       "array([[ 0.06359128],\n",
       "       [ 0.1006974 ],\n",
       "       [-0.13850028],\n",
       "       [-0.17098411],\n",
       "       [-0.5586329 ],\n",
       "       [ 0.05810117],\n",
       "       [ 0.12965539]])"
      ]
     },
     "execution_count": 79,
     "metadata": {},
     "output_type": "execute_result"
    }
   ],
   "source": [
    "bagg.estimators_[4].beta_"
   ]
  },
  {
   "cell_type": "markdown",
   "metadata": {},
   "source": [
    "I don't quite understand how to obtain the confidence level over $\\lambda_1$ and $\\lambda_2$. I need more time to think."
   ]
  },
  {
   "cell_type": "markdown",
   "metadata": {},
   "source": [
    "## 5. Variable Selection\n",
    "\n",
    "### 5.1. Coefficient paths"
   ]
  },
  {
   "cell_type": "code",
   "execution_count": 43,
   "metadata": {
    "collapsed": true
   },
   "outputs": [],
   "source": [
    "log_param_1_range=[-3+0.06*(i+1) for i in range(100)]"
   ]
  },
  {
   "cell_type": "code",
   "execution_count": 44,
   "metadata": {
    "collapsed": true
   },
   "outputs": [],
   "source": [
    "beta_step = np.zeros((100,X_train.shape[1]+1))"
   ]
  },
  {
   "cell_type": "code",
   "execution_count": 45,
   "metadata": {
    "collapsed": true
   },
   "outputs": [],
   "source": [
    "for i in range(len(log_param_1_range)):\n",
    "    loglam1 = log_param_1_range[i]\n",
    "    lam1    = 10**log_param_1_range[i]\n",
    "    wen     = WEN_pGD(lambda_1=lam1, lambda_2=0.00112, eta=0.0001,n_iter=200,feedback=False)\n",
    "    \n",
    "    wen.fit(X_train_sc,y_train_sc)\n",
    "    \n",
    "    beta_step[i,0] = loglam1\n",
    "    \n",
    "    # filling the array\n",
    "    for j in range(X_train_sc.shape[1]):\n",
    "        beta_step[i,1+j]= wen.beta_[1+j]"
   ]
  },
  {
   "cell_type": "code",
   "execution_count": 46,
   "metadata": {},
   "outputs": [
    {
     "data": {
      "image/png": "[encoded data removed]",
      "text/plain": [
       "<matplotlib.figure.Figure at 0x11db82748>"
      ]
     },
     "metadata": {},
     "output_type": "display_data"
    }
   ],
   "source": [
    "from itertools import cycle\n",
    "import pylab as pil\n",
    "#colors = cycle(['b', 'r', 'g', 'c', 'k'])\n",
    "for i_var in range(X_train_sc.shape[1]):\n",
    "    plt.plot(beta_step[:,0], beta_step[:,i_var+1])\n",
    "    \n",
    "plt.xlabel(r'$\\log_{10} \\lambda_1$')\n",
    "plt.ylabel('coefficients')\n",
    "plt.axvline(x=1.48, color='b', linestyle='--')\n",
    "pil.savefig('coeff_paths.pdf', bbox_inches='tight')\n",
    "plt.show()"
   ]
  },
  {
   "cell_type": "code",
   "execution_count": 47,
   "metadata": {
    "collapsed": true
   },
   "outputs": [],
   "source": [
    "optimal_wen=WEN_pGD(lambda_1=30.1995,lambda_2=0.00112)"
   ]
  },
  {
   "cell_type": "code",
   "execution_count": 48,
   "metadata": {},
   "outputs": [
    {
     "data": {
      "text/plain": [
       "WEN_pGD(eta=0.0001, feedback=False, lambda_1=30.1995, lambda_2=0.00112,\n",
       "    n_iter=150)"
      ]
     },
     "execution_count": 48,
     "metadata": {},
     "output_type": "execute_result"
    }
   ],
   "source": [
    "optimal_wen.fit(X_train_sc,y_train_sc)"
   ]
  },
  {
   "cell_type": "code",
   "execution_count": 50,
   "metadata": {},
   "outputs": [],
   "source": [
    "not0coeff = np.count_nonzero(optimal_wen.beta_[1:])"
   ]
  },
  {
   "cell_type": "code",
   "execution_count": 52,
   "metadata": {},
   "outputs": [
    {
     "name": "stdout",
     "output_type": "stream",
     "text": [
      "The WEN selected 7 variables.\n"
     ]
    }
   ],
   "source": [
    "print('The WEN selected', not0coeff, 'variables.')"
   ]
  },
  {
   "cell_type": "code",
   "execution_count": 54,
   "metadata": {},
   "outputs": [
    {
     "name": "stdout",
     "output_type": "stream",
     "text": [
      "optimal coefficients: \n",
      " [[-0.02995666]\n",
      " [ 0.        ]\n",
      " [ 0.        ]\n",
      " [ 0.05909977]\n",
      " [ 0.        ]\n",
      " [ 0.32382294]\n",
      " [ 0.        ]\n",
      " [-0.01728384]\n",
      " [ 0.        ]\n",
      " [ 0.        ]\n",
      " [-0.2152775 ]\n",
      " [ 0.01165082]\n",
      " [-0.40150232]]\n"
     ]
    }
   ],
   "source": [
    "optimal_coeff=optimal_wen.beta_[1:]\n",
    "print('optimal coefficients: \\n', optimal_coeff)"
   ]
  },
  {
   "cell_type": "markdown",
   "metadata": {},
   "source": [
    "### 5.3. increasing $\\lambda_2$"
   ]
  },
  {
   "cell_type": "code",
   "execution_count": 62,
   "metadata": {
    "collapsed": true
   },
   "outputs": [],
   "source": [
    "for i in range(len(log_param_1_range)):\n",
    "    loglam1 = log_param_1_range[i]\n",
    "    lam1    = 10**log_param_1_range[i]\n",
    "    wen     = WEN_pGD(lambda_1=lam1, lambda_2=1.0, eta=0.0001,n_iter=200,feedback=False)\n",
    "    \n",
    "    wen.fit(X_train_sc,y_train_sc)\n",
    "    \n",
    "    beta_step[i,0] = loglam1\n",
    "    \n",
    "    # filling the array\n",
    "    for j in range(X_train_sc.shape[1]):\n",
    "        beta_step[i,1+j]= wen.beta_[1+j]"
   ]
  },
  {
   "cell_type": "code",
   "execution_count": 63,
   "metadata": {},
   "outputs": [
    {
     "data": {
      "image/png": "[encoded data removed]",
      "text/plain": [
       "<matplotlib.figure.Figure at 0x11d5e9f98>"
      ]
     },
     "metadata": {},
     "output_type": "display_data"
    }
   ],
   "source": [
    "from itertools import cycle\n",
    "import pylab as pil\n",
    "#colors = cycle(['b', 'r', 'g', 'c', 'k'])\n",
    "for i_var in range(X_train_sc.shape[1]):\n",
    "    plt.plot(beta_step[:,0], beta_step[:,i_var+1])\n",
    "    \n",
    "plt.xlabel(r'$\\log_{10} \\lambda_1$')\n",
    "plt.ylabel('coefficients')\n",
    "#plt.axvline(x=1.48, color='b', linestyle='--')\n",
    "pil.savefig('coeff_paths2.pdf', bbox_inches='tight')\n",
    "plt.show()"
   ]
  }
 ],
 "metadata": {
  "kernelspec": {
   "display_name": "Python 3",
   "language": "python",
   "name": "python3"
  },
  "language_info": {
   "codemirror_mode": {
    "name": "ipython",
    "version": 3
   },
   "file_extension": ".py",
   "mimetype": "text/x-python",
   "name": "python",
   "nbconvert_exporter": "python",
   "pygments_lexer": "ipython3",
   "version": "3.6.2"
  }
 },
 "nbformat": 4,
 "nbformat_minor": 2
}
