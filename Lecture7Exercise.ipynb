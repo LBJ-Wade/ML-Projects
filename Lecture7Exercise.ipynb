{
 "cells": [
  {
   "cell_type": "markdown",
   "metadata": {},
   "source": [
    "# An implementation of the K-means - exercise\n",
    "\n",
    "In this exercise implement the K-means algorithm for unsupervised learning.\n",
    "\n",
    "## 1. Loading the dataset"
   ]
  },
  {
   "cell_type": "code",
   "execution_count": 1,
   "metadata": {
    "collapsed": true
   },
   "outputs": [],
   "source": [
    "# loading the libraries\n",
    "import numpy as np\n",
    "import math \n",
    "import pylab as pil\n",
    "import matplotlib.pyplot as plt\n",
    "import pandas as pd\n",
    "%matplotlib inline"
   ]
  },
  {
   "cell_type": "code",
   "execution_count": 2,
   "metadata": {},
   "outputs": [
    {
     "data": {
      "text/html": [
       "<div>\n",
       "<style>\n",
       "    .dataframe thead tr:only-child th {\n",
       "        text-align: right;\n",
       "    }\n",
       "\n",
       "    .dataframe thead th {\n",
       "        text-align: left;\n",
       "    }\n",
       "\n",
       "    .dataframe tbody tr th {\n",
       "        vertical-align: top;\n",
       "    }\n",
       "</style>\n",
       "<table border=\"1\" class=\"dataframe\">\n",
       "  <thead>\n",
       "    <tr style=\"text-align: right;\">\n",
       "      <th></th>\n",
       "      <th>0</th>\n",
       "      <th>1</th>\n",
       "      <th>2</th>\n",
       "      <th>3</th>\n",
       "      <th>4</th>\n",
       "      <th>5</th>\n",
       "      <th>6</th>\n",
       "      <th>7</th>\n",
       "      <th>8</th>\n",
       "    </tr>\n",
       "  </thead>\n",
       "  <tbody>\n",
       "    <tr>\n",
       "      <th>326</th>\n",
       "      <td>SUBI_ECOLI</td>\n",
       "      <td>0.62</td>\n",
       "      <td>0.83</td>\n",
       "      <td>0.48</td>\n",
       "      <td>0.5</td>\n",
       "      <td>0.46</td>\n",
       "      <td>0.36</td>\n",
       "      <td>0.40</td>\n",
       "      <td>pp</td>\n",
       "    </tr>\n",
       "    <tr>\n",
       "      <th>327</th>\n",
       "      <td>TBPA_ECOLI</td>\n",
       "      <td>0.56</td>\n",
       "      <td>0.54</td>\n",
       "      <td>0.48</td>\n",
       "      <td>0.5</td>\n",
       "      <td>0.43</td>\n",
       "      <td>0.37</td>\n",
       "      <td>0.30</td>\n",
       "      <td>pp</td>\n",
       "    </tr>\n",
       "    <tr>\n",
       "      <th>328</th>\n",
       "      <td>TESA_ECOLI</td>\n",
       "      <td>0.69</td>\n",
       "      <td>0.66</td>\n",
       "      <td>0.48</td>\n",
       "      <td>0.5</td>\n",
       "      <td>0.41</td>\n",
       "      <td>0.50</td>\n",
       "      <td>0.25</td>\n",
       "      <td>pp</td>\n",
       "    </tr>\n",
       "    <tr>\n",
       "      <th>329</th>\n",
       "      <td>TOLB_ECOLI</td>\n",
       "      <td>0.69</td>\n",
       "      <td>0.65</td>\n",
       "      <td>0.48</td>\n",
       "      <td>0.5</td>\n",
       "      <td>0.63</td>\n",
       "      <td>0.48</td>\n",
       "      <td>0.41</td>\n",
       "      <td>pp</td>\n",
       "    </tr>\n",
       "    <tr>\n",
       "      <th>330</th>\n",
       "      <td>TORA_ECOLI</td>\n",
       "      <td>0.43</td>\n",
       "      <td>0.59</td>\n",
       "      <td>0.48</td>\n",
       "      <td>0.5</td>\n",
       "      <td>0.52</td>\n",
       "      <td>0.49</td>\n",
       "      <td>0.56</td>\n",
       "      <td>pp</td>\n",
       "    </tr>\n",
       "    <tr>\n",
       "      <th>331</th>\n",
       "      <td>TREA_ECOLI</td>\n",
       "      <td>0.74</td>\n",
       "      <td>0.56</td>\n",
       "      <td>0.48</td>\n",
       "      <td>0.5</td>\n",
       "      <td>0.47</td>\n",
       "      <td>0.68</td>\n",
       "      <td>0.30</td>\n",
       "      <td>pp</td>\n",
       "    </tr>\n",
       "    <tr>\n",
       "      <th>332</th>\n",
       "      <td>UGPB_ECOLI</td>\n",
       "      <td>0.71</td>\n",
       "      <td>0.57</td>\n",
       "      <td>0.48</td>\n",
       "      <td>0.5</td>\n",
       "      <td>0.48</td>\n",
       "      <td>0.35</td>\n",
       "      <td>0.32</td>\n",
       "      <td>pp</td>\n",
       "    </tr>\n",
       "    <tr>\n",
       "      <th>333</th>\n",
       "      <td>USHA_ECOLI</td>\n",
       "      <td>0.61</td>\n",
       "      <td>0.60</td>\n",
       "      <td>0.48</td>\n",
       "      <td>0.5</td>\n",
       "      <td>0.44</td>\n",
       "      <td>0.39</td>\n",
       "      <td>0.38</td>\n",
       "      <td>pp</td>\n",
       "    </tr>\n",
       "    <tr>\n",
       "      <th>334</th>\n",
       "      <td>XYLF_ECOLI</td>\n",
       "      <td>0.59</td>\n",
       "      <td>0.61</td>\n",
       "      <td>0.48</td>\n",
       "      <td>0.5</td>\n",
       "      <td>0.42</td>\n",
       "      <td>0.42</td>\n",
       "      <td>0.37</td>\n",
       "      <td>pp</td>\n",
       "    </tr>\n",
       "    <tr>\n",
       "      <th>335</th>\n",
       "      <td>YTFQ_ECOLI</td>\n",
       "      <td>0.74</td>\n",
       "      <td>0.74</td>\n",
       "      <td>0.48</td>\n",
       "      <td>0.5</td>\n",
       "      <td>0.31</td>\n",
       "      <td>0.53</td>\n",
       "      <td>0.52</td>\n",
       "      <td>pp</td>\n",
       "    </tr>\n",
       "  </tbody>\n",
       "</table>\n",
       "</div>"
      ],
      "text/plain": [
       "              0     1     2     3    4     5     6     7   8\n",
       "326  SUBI_ECOLI  0.62  0.83  0.48  0.5  0.46  0.36  0.40  pp\n",
       "327  TBPA_ECOLI  0.56  0.54  0.48  0.5  0.43  0.37  0.30  pp\n",
       "328  TESA_ECOLI  0.69  0.66  0.48  0.5  0.41  0.50  0.25  pp\n",
       "329  TOLB_ECOLI  0.69  0.65  0.48  0.5  0.63  0.48  0.41  pp\n",
       "330  TORA_ECOLI  0.43  0.59  0.48  0.5  0.52  0.49  0.56  pp\n",
       "331  TREA_ECOLI  0.74  0.56  0.48  0.5  0.47  0.68  0.30  pp\n",
       "332  UGPB_ECOLI  0.71  0.57  0.48  0.5  0.48  0.35  0.32  pp\n",
       "333  USHA_ECOLI  0.61  0.60  0.48  0.5  0.44  0.39  0.38  pp\n",
       "334  XYLF_ECOLI  0.59  0.61  0.48  0.5  0.42  0.42  0.37  pp\n",
       "335  YTFQ_ECOLI  0.74  0.74  0.48  0.5  0.31  0.53  0.52  pp"
      ]
     },
     "execution_count": 2,
     "metadata": {},
     "output_type": "execute_result"
    }
   ],
   "source": [
    "# loading the dataset\n",
    "data = pd.read_csv('ecoli.csv', header = None).dropna()\n",
    "data.tail(10)"
   ]
  },
  {
   "cell_type": "code",
   "execution_count": 3,
   "metadata": {},
   "outputs": [
    {
     "data": {
      "text/plain": [
       "array([0, 1, 2, 3, 4, 5, 6, 7])"
      ]
     },
     "execution_count": 3,
     "metadata": {},
     "output_type": "execute_result"
    }
   ],
   "source": [
    "from sklearn.preprocessing import LabelEncoder\n",
    "le =LabelEncoder()\n",
    "y = data[8]\n",
    "y = le.fit_transform(y)\n",
    "np.unique(y)"
   ]
  },
  {
   "cell_type": "code",
   "execution_count": 4,
   "metadata": {},
   "outputs": [
    {
     "data": {
      "text/html": [
       "<div>\n",
       "<style>\n",
       "    .dataframe thead tr:only-child th {\n",
       "        text-align: right;\n",
       "    }\n",
       "\n",
       "    .dataframe thead th {\n",
       "        text-align: left;\n",
       "    }\n",
       "\n",
       "    .dataframe tbody tr th {\n",
       "        vertical-align: top;\n",
       "    }\n",
       "</style>\n",
       "<table border=\"1\" class=\"dataframe\">\n",
       "  <thead>\n",
       "    <tr style=\"text-align: right;\">\n",
       "      <th></th>\n",
       "      <th>1</th>\n",
       "      <th>2</th>\n",
       "      <th>3</th>\n",
       "      <th>4</th>\n",
       "      <th>5</th>\n",
       "      <th>6</th>\n",
       "      <th>7</th>\n",
       "      <th>8</th>\n",
       "    </tr>\n",
       "  </thead>\n",
       "  <tbody>\n",
       "    <tr>\n",
       "      <th>0</th>\n",
       "      <td>0.49</td>\n",
       "      <td>0.29</td>\n",
       "      <td>0.48</td>\n",
       "      <td>0.5</td>\n",
       "      <td>0.56</td>\n",
       "      <td>0.24</td>\n",
       "      <td>0.35</td>\n",
       "      <td>cp</td>\n",
       "    </tr>\n",
       "    <tr>\n",
       "      <th>1</th>\n",
       "      <td>0.07</td>\n",
       "      <td>0.40</td>\n",
       "      <td>0.48</td>\n",
       "      <td>0.5</td>\n",
       "      <td>0.54</td>\n",
       "      <td>0.35</td>\n",
       "      <td>0.44</td>\n",
       "      <td>cp</td>\n",
       "    </tr>\n",
       "    <tr>\n",
       "      <th>2</th>\n",
       "      <td>0.56</td>\n",
       "      <td>0.40</td>\n",
       "      <td>0.48</td>\n",
       "      <td>0.5</td>\n",
       "      <td>0.49</td>\n",
       "      <td>0.37</td>\n",
       "      <td>0.46</td>\n",
       "      <td>cp</td>\n",
       "    </tr>\n",
       "    <tr>\n",
       "      <th>3</th>\n",
       "      <td>0.59</td>\n",
       "      <td>0.49</td>\n",
       "      <td>0.48</td>\n",
       "      <td>0.5</td>\n",
       "      <td>0.52</td>\n",
       "      <td>0.45</td>\n",
       "      <td>0.36</td>\n",
       "      <td>cp</td>\n",
       "    </tr>\n",
       "    <tr>\n",
       "      <th>4</th>\n",
       "      <td>0.23</td>\n",
       "      <td>0.32</td>\n",
       "      <td>0.48</td>\n",
       "      <td>0.5</td>\n",
       "      <td>0.55</td>\n",
       "      <td>0.25</td>\n",
       "      <td>0.35</td>\n",
       "      <td>cp</td>\n",
       "    </tr>\n",
       "  </tbody>\n",
       "</table>\n",
       "</div>"
      ],
      "text/plain": [
       "      1     2     3    4     5     6     7   8\n",
       "0  0.49  0.29  0.48  0.5  0.56  0.24  0.35  cp\n",
       "1  0.07  0.40  0.48  0.5  0.54  0.35  0.44  cp\n",
       "2  0.56  0.40  0.48  0.5  0.49  0.37  0.46  cp\n",
       "3  0.59  0.49  0.48  0.5  0.52  0.45  0.36  cp\n",
       "4  0.23  0.32  0.48  0.5  0.55  0.25  0.35  cp"
      ]
     },
     "execution_count": 4,
     "metadata": {},
     "output_type": "execute_result"
    }
   ],
   "source": [
    "# dropping the first column\n",
    "data = data.iloc[:,data.columns!=0]\n",
    "data.head()"
   ]
  },
  {
   "cell_type": "code",
   "execution_count": 5,
   "metadata": {},
   "outputs": [],
   "source": [
    "# selecting only the first 7 columns\n",
    "X = data.iloc[:,:7].values"
   ]
  },
  {
   "cell_type": "code",
   "execution_count": 6,
   "metadata": {},
   "outputs": [],
   "source": [
    "from sklearn.model_selection import train_test_split\n",
    "\n",
    "X_train, X_test, y_train, y_test = train_test_split(X, y, test_size=0.7, random_state=42)"
   ]
  },
  {
   "cell_type": "code",
   "execution_count": 7,
   "metadata": {},
   "outputs": [],
   "source": [
    "# Now, proababy I should also define the X_std\n",
    "from sklearn.preprocessing import StandardScaler\n",
    "sc = StandardScaler()\n",
    "X_train_std = sc.fit_transform(X_train)"
   ]
  },
  {
   "cell_type": "markdown",
   "metadata": {},
   "source": [
    "## 2. Implementing the Kmeans algorithm."
   ]
  },
  {
   "cell_type": "code",
   "execution_count": 8,
   "metadata": {},
   "outputs": [],
   "source": [
    "# Import the necessary libraries\n",
    "import numpy as np\n",
    "from numpy import linalg \n",
    "\n",
    "# Let us define the L1 distance for later\n",
    "def L1(v1,v2):\n",
    "      if(len(v1)!=len(v2)):\n",
    "        print('error')\n",
    "        return -1\n",
    "      return np.sum([abs(v1[i]-v2[i]) for i in range(len(v1))])\n",
    "\n",
    "\n",
    "class KMeans_custom(object):\n",
    "     \n",
    "    # Initialization of the K-means object\n",
    "    def __init__(self, metric, tol, random_seed=None):\n",
    "        self.tol = tol\n",
    "        self.metric = metric\n",
    "        self.random_seed = random_seed\n",
    "    \n",
    "    def fit(self, data, num_clusters):\n",
    "        # K-means algorithm\n",
    "        # Initialize the parameters\n",
    "        self.K = num_clusters\n",
    "        \n",
    "        # Initialize random seed \n",
    "        if(self.random_seed == None):\n",
    "            np.random.seed(26)\n",
    "        else:\n",
    "            np.random.seed(self.random_seed)\n",
    "        \n",
    "        # Initialize mean vectors (one for each cluster) (KxN)\n",
    "        self.mu = np.random.rand(self.K,data.shape[1])\n",
    "        #print('mu:',self.mu)\n",
    "        \n",
    "        self.errors =[]\n",
    "        # the iteration loop        \n",
    "        while True:\n",
    "            \n",
    "            # Now initialize the array C. It contains the \n",
    "            self.C = [[] for i in range(self.K)]\n",
    "            \n",
    "            # Decide which cluster the data belongs to\n",
    "            for i_data in range(data.shape[0]):\n",
    "                \n",
    "                distances_sample = []\n",
    "                x = data[i_data,:]\n",
    "                \n",
    "                for k_cluster in range(self.K):\n",
    "                    #print('k:',k_cluster)\n",
    "                    # get the centroid coordinates\n",
    "                    mu = self.mu[k_cluster, :]\n",
    "                    #print('mu:',mu)\n",
    "                    \n",
    "                    # now the distance sample-centroid\n",
    "                    if (self.metric == 'euclidean'):\n",
    "                        dist = linalg.norm(x-mu)**2\n",
    "                    elif (self.metric == 'L1'):\n",
    "                        #print('x:',x)\n",
    "                        #print('mu:', mu)\n",
    "                        dist = L1(x,mu)\n",
    "                        #print('dist:',dist)\n",
    "                    \n",
    "                    distances_sample.append(dist)\n",
    "                    \n",
    "                index = distances_sample.index(min(distances_sample))\n",
    "                \n",
    "                self.C[index].append(i_data)\n",
    "             \n",
    "            #Now compute the new centroids\n",
    "            mu_new=[]\n",
    "            SE = []\n",
    "            for k_cluster in range(self.K):\n",
    "                data_k = [data[i] for i in self.C[k_cluster]]\n",
    "                #print('data_k:', data_k)\n",
    "                mu_k = np.average(data_k, axis=0)\n",
    "                #print('mu_k', mu_k)\n",
    "                mu_new.append(mu_k)\n",
    "                SE.append(linalg.norm(self.mu[k_cluster,:] - mu_k)**2)\n",
    "                 \n",
    "            error = np.sum(SE)\n",
    "            print('error:',error)\n",
    "            self.errors.append(error)\n",
    "             # breaking condition\n",
    "                \n",
    "            if ( error < self.tol):\n",
    "                self.is_fitted = True\n",
    "                return self\n",
    "                break\n",
    "            else:\n",
    "                #nope....\n",
    "                for k_cluster in range(self.K):\n",
    "                    self.mu[k_cluster,:] = mu_new[k_cluster]\n",
    "                    \n",
    "                \n",
    "    def predict(self,data):\n",
    "        \n",
    "        # Check if Kmeans has been trained\n",
    "        if (not self.is_fitted):\n",
    "            print('Error:  Kmeans not fitted yet')\n",
    "            return\n",
    "        \n",
    "        # initialize the prediction vector\n",
    "        y_pred = np.zeros(data.shape[0])\n",
    "        \n",
    "        # Loop over data\n",
    "        for i in range(data.shape[0]):\n",
    "            distances=[]\n",
    "            x = data[i,:]\n",
    "            \n",
    "            #for each data-sample loop over clusters\n",
    "            for k_cluster in range(self.K):\n",
    "                mu = self.mu[k_cluster,:]\n",
    "                if (self.metric == 'euclidean'):\n",
    "                    dist = linalg.norm(x-mu)**2\n",
    "                elif (self.metric == 'L1'):\n",
    "                    dist = L1(np.array(x),np.array(mu))\n",
    "                    \n",
    "                distances.append(dist)\n",
    "            \n",
    "            index = distances.index(min(distances))  \n",
    "            y_pred[i] = index\n",
    "            \n",
    "        return y_pred\n",
    "        \n",
    "        \n",
    "        "
   ]
  },
  {
   "cell_type": "code",
   "execution_count": 9,
   "metadata": {},
   "outputs": [],
   "source": [
    "kmeans = KMeans_custom(metric='euclidean', tol = 0.0001, random_seed=42)"
   ]
  },
  {
   "cell_type": "code",
   "execution_count": 10,
   "metadata": {},
   "outputs": [
    {
     "name": "stdout",
     "output_type": "stream",
     "text": [
      "error: 109.20959859\n",
      "error: 2.22796683252\n",
      "error: 0.307872200335\n",
      "error: 0.238602701491\n",
      "error: 0.184798397386\n",
      "error: 0.0283492351708\n",
      "error: 0.0660470390755\n",
      "error: 0.0511914704929\n",
      "error: 0.0215992310348\n",
      "error: 0.0\n"
     ]
    },
    {
     "data": {
      "text/plain": [
       "<__main__.KMeans_custom at 0x11b07fa58>"
      ]
     },
     "execution_count": 10,
     "metadata": {},
     "output_type": "execute_result"
    }
   ],
   "source": [
    "kmeans.fit(data=X_train_std,num_clusters=8)"
   ]
  },
  {
   "cell_type": "code",
   "execution_count": 11,
   "metadata": {},
   "outputs": [],
   "source": [
    "#X_test_std = sc.transform(X_test)\n",
    "y_custom = kmeans.predict(X_train_std)"
   ]
  },
  {
   "cell_type": "markdown",
   "metadata": {},
   "source": [
    "## 3. Comparing with sklearn KMeans"
   ]
  },
  {
   "cell_type": "code",
   "execution_count": 12,
   "metadata": {
    "collapsed": true
   },
   "outputs": [],
   "source": [
    "# Let's try with sklearn\n",
    "from sklearn.cluster import KMeans\n",
    "km = KMeans(n_clusters=8, init = 'random', n_init=10, max_iter = 300, tol = 1e-4, random_state = 0)\n",
    "y_km = km.fit_predict(X_train_std)"
   ]
  },
  {
   "cell_type": "code",
   "execution_count": 13,
   "metadata": {},
   "outputs": [
    {
     "name": "stdout",
     "output_type": "stream",
     "text": [
      "confmat = \n",
      " [[11  0  0  0  0  0  0  0]\n",
      " [ 0  0  0  0  0  0 10  0]\n",
      " [ 0  0  0  0  0 15  0  0]\n",
      " [ 0  0  3 23  0  0  0  0]\n",
      " [ 0  8  0  0  0  0  0  0]\n",
      " [ 0  0  5  0  0  0  0  0]\n",
      " [ 0  0  0  0 24  0  0  0]\n",
      " [ 0  0  0  0  0  0  0  1]]\n"
     ]
    }
   ],
   "source": [
    "from sklearn.metrics import confusion_matrix\n",
    "confmat = confusion_matrix(y_true=y_km, y_pred=y_custom)\n",
    "print('confmat = \\n', confmat)"
   ]
  },
  {
   "cell_type": "code",
   "execution_count": 14,
   "metadata": {},
   "outputs": [
    {
     "data": {
      "text/plain": [
       "array([[ 0.9815525 ,  1.90311473, -0.10050378,  0.        , -0.52543521,\n",
       "        -0.09271456, -0.65757419],\n",
       "       [-1.41356097, -0.43996198, -0.10050378,  0.        , -0.09451406,\n",
       "         0.59020115,  0.68458342],\n",
       "       [ 0.11556212,  0.15791841, -0.10050378,  0.        , -0.34703254,\n",
       "        -0.35480121, -0.49645118],\n",
       "       [-0.96565339, -0.80838828, -0.10050378,  0.        , -0.06176991,\n",
       "        -1.046986  , -0.66261699],\n",
       "       [ 0.7927338 ,  1.0287442 , -0.10050378,  0.        ,  1.87513011,\n",
       "        -0.35054793, -0.78049241],\n",
       "       [ 0.11875444, -0.50494898, -0.10050378,  0.        , -2.3094619 ,\n",
       "        -0.41666716, -0.73361959],\n",
       "       [ 0.82465704, -0.17622308, -0.10050378,  0.        ,  0.39909945,\n",
       "         1.31403274,  1.40690547],\n",
       "       [-0.01532315,  0.6388222 ,  9.94987437,  0.        ,  0.50431548,\n",
       "         1.01243624,  1.20859742]])"
      ]
     },
     "execution_count": 14,
     "metadata": {},
     "output_type": "execute_result"
    }
   ],
   "source": [
    "km.cluster_centers_"
   ]
  },
  {
   "cell_type": "code",
   "execution_count": 15,
   "metadata": {},
   "outputs": [
    {
     "data": {
      "text/plain": [
       "array([[ 0.9815525 ,  1.90311473, -0.10050378,  0.        , -0.52543521,\n",
       "        -0.09271456, -0.65757419],\n",
       "       [ 0.7927338 ,  1.0287442 , -0.10050378,  0.        ,  1.87513011,\n",
       "        -0.35054793, -0.78049241],\n",
       "       [-0.18890576, -0.57156066, -0.10050378,  0.        , -1.81344345,\n",
       "        -0.72174362, -0.99081912],\n",
       "       [-1.00008564, -0.82479804, -0.10050378,  0.        ,  0.05887915,\n",
       "        -1.02308795, -0.56389508],\n",
       "       [ 0.82465704, -0.17622308, -0.10050378,  0.        ,  0.39909945,\n",
       "         1.31403274,  1.40690547],\n",
       "       [ 0.11556212,  0.15791841, -0.10050378,  0.        , -0.34703254,\n",
       "        -0.35480121, -0.49645118],\n",
       "       [-1.41356097, -0.43996198, -0.10050378,  0.        , -0.09451406,\n",
       "         0.59020115,  0.68458342],\n",
       "       [-0.01532315,  0.6388222 ,  9.94987437,  0.        ,  0.50431548,\n",
       "         1.01243624,  1.20859742]])"
      ]
     },
     "execution_count": 15,
     "metadata": {},
     "output_type": "execute_result"
    }
   ],
   "source": [
    "kmeans.mu"
   ]
  },
  {
   "cell_type": "code",
   "execution_count": null,
   "metadata": {
    "collapsed": true
   },
   "outputs": [],
   "source": []
  }
 ],
 "metadata": {
  "kernelspec": {
   "display_name": "Python 3",
   "language": "python",
   "name": "python3"
  },
  "language_info": {
   "codemirror_mode": {
    "name": "ipython",
    "version": 3
   },
   "file_extension": ".py",
   "mimetype": "text/x-python",
   "name": "python",
   "nbconvert_exporter": "python",
   "pygments_lexer": "ipython3",
   "version": "3.6.2"
  }
 },
 "nbformat": 4,
 "nbformat_minor": 2
}
